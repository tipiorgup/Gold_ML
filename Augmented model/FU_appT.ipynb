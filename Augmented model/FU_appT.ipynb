{
 "cells": [
  {
   "cell_type": "code",
   "execution_count": 47,
   "metadata": {},
   "outputs": [],
   "source": [
    "import os                                                              \n",
    "import time   \n",
    "import pickle\n",
    "import sys\n",
    "import numpy as np                                                     \n",
    "import pandas as pd   \n",
    "import seaborn as sns                                                  \n",
    "import matplotlib.pyplot as plt\n",
    "import math\n",
    "import re\n",
    "                                                                       \n",
    "from sklearn.metrics import mean_absolute_error                        \n",
    "from sklearn.metrics import mean_squared_error                         \n",
    "from sklearn.model_selection import train_test_split                   \n",
    "from sklearn.preprocessing import StandardScaler                       \n",
    "from sklearn.model_selection import train_test_split\n",
    "\n",
    "import keras                                                           \n",
    "from keras.optimizers import Adam                                      \n",
    "from keras.models import Model, Sequential                             \n",
    "from keras.layers import Input, Dense, Dropout, merge                  \n",
    "from keras.callbacks import ModelCheckpoint, Callback, EarlyStopping \n",
    "\n",
    "import ase                                                             \n",
    "import ase.build                                                       \n",
    "from ase import Atoms                                                  \n",
    "from ase.atoms import Atoms                                            \n",
    "from ase.io import read, write                                         \n",
    "from ase.calculators.dftb import Dftb                                  \n",
    "from ase.units import Hartree, mol, kcal, Bohr                         \n",
    "                                                                       \n",
    "from src.Calculator import src_nogrd                                                       \n",
    "from src.Calculator.src_nogrd import sym_func_show   \n",
    "from src.Calculator.src_nogrd import symmetry_function                                         \n",
    "from src.Calculator.src_nogrd import xyzArr_generator                                 \n",
    "from src.Calculator.src_nogrd import feat_scaling_func                                \n",
    "from src.Calculator.src_nogrd import at_idx_map_generator\n",
    "from src.Calculator.src_nogrd import at_idx_map_generator_old\n",
    "from src.Calculator.store_models import write_subnet_text\n",
    "                                                                                                                           \n",
    "import pickle\n",
    "from itertools import combinations_with_replacement as comb_replace\n",
    "                                                                       \n",
    "import src.Utils.DirNav                                                \n",
    "from src.Utils.dftb_traj_io import read_scan_traj\n",
    "import src.Utils.netBuilder\n",
    "from src.Utils.netBuilder import netBuilder"
   ]
  },
  {
   "cell_type": "code",
   "execution_count": 48,
   "metadata": {},
   "outputs": [],
   "source": [
    "import keras\n",
    "geom_filename          = 'final_Au39.xyz' # I appended your sample structures\n",
    "\n",
    "md_train_arr_origin    = read_scan_traj(filename=geom_filename)\n",
    "md_train_arr = md_train_arr_origin.copy(deep=False).reset_index(drop=True)"
   ]
  },
  {
   "cell_type": "code",
   "execution_count": 49,
   "metadata": {},
   "outputs": [],
   "source": [
    "# Maintainence: Natom is a global variable \n",
    "# Assumes that the configuration does not change the Number of atoms. \n",
    "nAtoms, xyzArr = xyzArr_generator(md_train_arr)# Calculate distance dataframe from xyz coordinates\n",
    "distances = src_nogrd.distances_from_xyz(xyzArr, nAtoms)"
   ]
  },
  {
   "cell_type": "code",
   "execution_count": 50,
   "metadata": {},
   "outputs": [],
   "source": [
    "struct = ase.io.read(geom_filename, format = \"xyz\")\n",
    "SUPPORTED_ELEMENTS = ['H','O','Au']"
   ]
  },
  {
   "cell_type": "code",
   "execution_count": 51,
   "metadata": {},
   "outputs": [],
   "source": [
    "cutoff_rad = 7 #max(distances.max(1))\n",
    "Rs_array = np.linspace(0.2, 7, num=14) #np.linspace(distances.min(1), max(distances.max(1)), num=int(max(distances.max(1))-min(distances.min(1))))   # based on max and min of the distances\n",
    "eta_array =  5/(np.square(0.2*Rs_array))  #((max(distances.max(1))- min(distances.min(1))))/(2*np.square(min(distances.min(1))*Rs_array))\n",
    "rad_params = np.array([(Rs_array[i], eta_array[i], cutoff_rad) for i in range(len(Rs_array)) ])\n",
    "\n",
    "\n",
    "\n",
    "# angular symmetry function parameters\n",
    "cutoff_ang =  5 #math.radians(min(all_ang)) #math.radians(max(all_ang))\n",
    "lambd_array = np.array([-1, 1])\n",
    "zeta_array = np.array([1, 4, 16]) #zeta_array = np.array([1, 4, 16])\n",
    "#zeta_array = np.array([math.radians(sum(all_ang)/len(all_ang))])\n",
    "eta_ang_array = np.array([0.001, 0.01, 0.05]) #eta_ang_array = np.array([0.001, 0.01, 0.05])\n",
    "#eta_ang_array = np.array([math.radians(min(all_ang))])\n",
    "\n",
    "# Each of the element need to be parametrized for all of the list. \n",
    "angList = np.array([e1+e2 for e1, e2 in comb_replace(SUPPORTED_ELEMENTS, 2)])\n",
    "#print(angList)\n",
    "ang_comp = {el : angList for el in SUPPORTED_ELEMENTS}\n",
    "ang_params = np.array([[eta, zeta, lambd, cutoff_ang] for eta in eta_ang_array for zeta in zeta_array for lambd in lambd_array])"
   ]
  },
  {
   "cell_type": "code",
   "execution_count": 52,
   "metadata": {},
   "outputs": [
    {
     "data": {
      "text/plain": [
       "array(['HH', 'HO', 'HAu', 'OO', 'OAu', 'AuAu'], dtype='<U4')"
      ]
     },
     "execution_count": 52,
     "metadata": {},
     "output_type": "execute_result"
    }
   ],
   "source": [
    "np.array([e1+e2 for e1, e2 in comb_replace(SUPPORTED_ELEMENTS, 2)])"
   ]
  },
  {
   "cell_type": "markdown",
   "metadata": {},
   "source": []
  },
  {
   "cell_type": "code",
   "execution_count": 53,
   "metadata": {},
   "outputs": [],
   "source": [
    "at_idx_map_t = at_idx_map_generator_old(md_train_arr[0])\n",
    "at_idx_map = {el : at_idx_map_t[el] for el in SUPPORTED_ELEMENTS}"
   ]
  },
  {
   "cell_type": "code",
   "execution_count": 54,
   "metadata": {},
   "outputs": [
    {
     "name": "stdout",
     "output_type": "stream",
     "text": [
      "dict_keys(['H', 'O', 'Au'])\n",
      "dict_keys(['H', 'O', 'Au'])\n",
      "dict_keys(['H', 'O', 'Au'])\n"
     ]
    }
   ],
   "source": [
    "Gparam_dict = {}\n",
    "for at_type in at_idx_map.keys():\n",
    "   Gparam_dict[at_type] = {}\n",
    "   Gparam_dict[at_type]['rad'] = {}\n",
    "   for at2_rad in at_idx_map.keys():\n",
    "           Gparam_dict[at_type]['rad'][at2_rad] = rad_params\n",
    "\n",
    "   # This Section is already designed to be genera\n",
    "   Gparam_dict[at_type]['ang'] = {}\n",
    "   for at23_ang in ang_comp[at_type]:\n",
    "       Gparam_dict[at_type]['ang'][at23_ang] = ang_params\n",
    "for at_type in Gparam_dict.keys():\n",
    "   print(Gparam_dict[at_type]['rad'].keys())"
   ]
  },
  {
   "cell_type": "code",
   "execution_count": 56,
   "metadata": {},
   "outputs": [
    {
     "name": "stderr",
     "output_type": "stream",
     "text": [
      "C:\\Users\\claud\\AppData\\Local\\Temp\\ipykernel_24124\\800211604.py:79: FutureWarning: The default dtype for empty Series will be 'object' instead of 'float64' in a future version. Specify a dtype explicitly to silence this warning.\n",
      "  Gfunc_data = pd.Series([])\n",
      "C:\\Users\\claud\\AppData\\Local\\Temp\\ipykernel_24124\\800211604.py:87: FutureWarning: The default dtype for empty Series will be 'object' instead of 'float64' in a future version. Specify a dtype explicitly to silence this warning.\n",
      "  Gfunc_data[at_type] = pd.Series([])\n",
      "C:\\Users\\claud\\AppData\\Local\\Temp\\ipykernel_24124\\800211604.py:87: FutureWarning: The default dtype for empty Series will be 'object' instead of 'float64' in a future version. Specify a dtype explicitly to silence this warning.\n",
      "  Gfunc_data[at_type] = pd.Series([])\n",
      "C:\\Users\\claud\\AppData\\Local\\Temp\\ipykernel_24124\\800211604.py:87: FutureWarning: The default dtype for empty Series will be 'object' instead of 'float64' in a future version. Specify a dtype explicitly to silence this warning.\n",
      "  Gfunc_data[at_type] = pd.Series([])\n"
     ]
    }
   ],
   "source": [
    "Gfunc_data = symmetry_function(distances, at_idx_map, Gparam_dict)"
   ]
  },
  {
   "cell_type": "code",
   "execution_count": 57,
   "metadata": {},
   "outputs": [],
   "source": [
    "# Glboal Var\n",
    "n_samples = len(md_train_arr)\n",
    "\n",
    "\n",
    "# Maintainence // Problem: In case we have no atom for that particular element, \n",
    "# it is difficult to give the input dimension\n",
    "    \n",
    "# Maintain: I assume that same amount of symmetry function is used for each atom  \n",
    "# Maintain: Need a input_dim_list_generator function in the future\n",
    "\"\"\"\n",
    "def input_dim_list_generator(element):\n",
    "    # In case of element with 0 atoms in the configuration\n",
    "    nAtomsForEle = len(at_idx_map(element));\n",
    "    if len nAtomsForEle == 0:\n",
    "        return (nAtomsForEle, )\n",
    "        \"\"\"\n",
    "#nSymFunc = Gfunc_data['O'][0].shape[1]\n",
    "n_symm_func = Gfunc_data['O'][  at_idx_map['O'][0]].shape[1]\n",
    "#input_dim_list = [(len(at_idx_map[at]) ,nSymFunc, nb_feat) for at in at_idx_map.keys()]\n",
    "\n",
    "input_dim_list = {}\n",
    "for at_type in at_idx_map:\n",
    "    input_dim_list[at_type] = (n_symm_func, 1)"
   ]
  },
  {
   "cell_type": "code",
   "execution_count": 58,
   "metadata": {},
   "outputs": [],
   "source": [
    "todos=np.arange(0,n_samples) #Number of structures given\n",
    "Feat_train_scaled = {}\n",
    "for at_type in at_idx_map.keys():\n",
    "    Feat_train_scaled[at_type] = {}\n",
    "    for at in at_idx_map[at_type]:\n",
    "        Feat_train_scaled[at_type][at] = Gfunc_data[at_type][at][todos,]\n",
    "\n",
    "inp_train = []\n",
    "for at_type in at_idx_map.keys():\n",
    "\n",
    "    for atA in at_idx_map[at_type]:\n",
    "        inp_train.append(Feat_train_scaled[at_type][atA])"
   ]
  },
  {
   "cell_type": "code",
   "execution_count": 59,
   "metadata": {},
   "outputs": [],
   "source": [
    "def build_subnets(SUPPORTED_ELEMENTS):\n",
    "    elemental_subnets = {}\n",
    "    for element in SUPPORTED_ELEMENTS:\n",
    "        globals()[str(element)+\"-subnet\"]=keras.models.load_model(f\"{element}-subnet.h5\",compile=False)               \n",
    "        subnet = Sequential()\n",
    "        subnet.add(globals()[str(element)+\"-subnet\"]) \n",
    "        elemental_subnets[element] = subnet\n",
    "    return elemental_subnets"
   ]
  },
  {
   "cell_type": "code",
   "execution_count": 60,
   "metadata": {},
   "outputs": [],
   "source": [
    "def build_molecular_net(at_idx_map, elemental_subnets):\n",
    "    inputs = []\n",
    "    subnet_outputs = []\n",
    "    atomic_nets = {}\n",
    "    for type, atom_indices in at_idx_map.items():\n",
    "        atomic_nets[type] = {}\n",
    "        for idx in atom_indices:\n",
    "            input = Input(shape=(input_dim,), dtype=\"float32\",\n",
    "                            name=f\"{type}-{idx}-ele\")\n",
    "            inputs.append(input)\n",
    "            atomic_subnet = elemental_subnets[type](input)\n",
    "            subnet_outputs.append(atomic_subnet)\n",
    "            #atomic_nets[type][atom_idx] = atomic_subnet\n",
    "    total_output = keras.layers.add(subnet_outputs)\n",
    "    molecular_net = Model(inputs, total_output)\n",
    "    return molecular_net"
   ]
  },
  {
   "cell_type": "code",
   "execution_count": 61,
   "metadata": {},
   "outputs": [],
   "source": [
    "def build_molecular_net(at_idx_map, elemental_subnets):\n",
    "    inputs = []\n",
    "    subnet_outputs = []\n",
    "    atomic_nets = {}\n",
    "    for type, atom_indices in at_idx_map.items():\n",
    "        atomic_nets[type] = {}\n",
    "        for idx in atom_indices:\n",
    "            input = Input(shape=(n_symm_func,), dtype=\"float32\",\n",
    "                            name=f\"{type}-{idx}-ele\")\n",
    "            inputs.append(input)\n",
    "            atomic_subnet = elemental_subnets[type](input)\n",
    "            subnet_outputs.append(atomic_subnet)\n",
    "    total_output = keras.layers.add(subnet_outputs)\n",
    "    molecular_net = Model(inputs, total_output)\n",
    "    return molecular_net"
   ]
  },
  {
   "cell_type": "code",
   "execution_count": 62,
   "metadata": {},
   "outputs": [],
   "source": [
    "subnets = build_subnets(SUPPORTED_ELEMENTS)\n",
    "model = build_molecular_net(at_idx_map, subnets)"
   ]
  },
  {
   "cell_type": "code",
   "execution_count": 63,
   "metadata": {},
   "outputs": [
    {
     "name": "stdout",
     "output_type": "stream",
     "text": [
      "Model: \"functional_7\"\n",
      "__________________________________________________________________________________________________\n",
      "Layer (type)                    Output Shape         Param #     Connected to                     \n",
      "==================================================================================================\n",
      "H-40-ele (InputLayer)           [(None, 150)]        0                                            \n",
      "__________________________________________________________________________________________________\n",
      "H-41-ele (InputLayer)           [(None, 150)]        0                                            \n",
      "__________________________________________________________________________________________________\n",
      "O-39-ele (InputLayer)           [(None, 150)]        0                                            \n",
      "__________________________________________________________________________________________________\n",
      "Au-0-ele (InputLayer)           [(None, 150)]        0                                            \n",
      "__________________________________________________________________________________________________\n",
      "Au-1-ele (InputLayer)           [(None, 150)]        0                                            \n",
      "__________________________________________________________________________________________________\n",
      "Au-2-ele (InputLayer)           [(None, 150)]        0                                            \n",
      "__________________________________________________________________________________________________\n",
      "Au-3-ele (InputLayer)           [(None, 150)]        0                                            \n",
      "__________________________________________________________________________________________________\n",
      "Au-4-ele (InputLayer)           [(None, 150)]        0                                            \n",
      "__________________________________________________________________________________________________\n",
      "Au-5-ele (InputLayer)           [(None, 150)]        0                                            \n",
      "__________________________________________________________________________________________________\n",
      "Au-6-ele (InputLayer)           [(None, 150)]        0                                            \n",
      "__________________________________________________________________________________________________\n",
      "Au-7-ele (InputLayer)           [(None, 150)]        0                                            \n",
      "__________________________________________________________________________________________________\n",
      "Au-8-ele (InputLayer)           [(None, 150)]        0                                            \n",
      "__________________________________________________________________________________________________\n",
      "Au-9-ele (InputLayer)           [(None, 150)]        0                                            \n",
      "__________________________________________________________________________________________________\n",
      "Au-10-ele (InputLayer)          [(None, 150)]        0                                            \n",
      "__________________________________________________________________________________________________\n",
      "Au-11-ele (InputLayer)          [(None, 150)]        0                                            \n",
      "__________________________________________________________________________________________________\n",
      "Au-12-ele (InputLayer)          [(None, 150)]        0                                            \n",
      "__________________________________________________________________________________________________\n",
      "Au-13-ele (InputLayer)          [(None, 150)]        0                                            \n",
      "__________________________________________________________________________________________________\n",
      "Au-14-ele (InputLayer)          [(None, 150)]        0                                            \n",
      "__________________________________________________________________________________________________\n",
      "Au-15-ele (InputLayer)          [(None, 150)]        0                                            \n",
      "__________________________________________________________________________________________________\n",
      "Au-16-ele (InputLayer)          [(None, 150)]        0                                            \n",
      "__________________________________________________________________________________________________\n",
      "Au-17-ele (InputLayer)          [(None, 150)]        0                                            \n",
      "__________________________________________________________________________________________________\n",
      "Au-18-ele (InputLayer)          [(None, 150)]        0                                            \n",
      "__________________________________________________________________________________________________\n",
      "Au-19-ele (InputLayer)          [(None, 150)]        0                                            \n",
      "__________________________________________________________________________________________________\n",
      "Au-20-ele (InputLayer)          [(None, 150)]        0                                            \n",
      "__________________________________________________________________________________________________\n",
      "Au-21-ele (InputLayer)          [(None, 150)]        0                                            \n",
      "__________________________________________________________________________________________________\n",
      "Au-22-ele (InputLayer)          [(None, 150)]        0                                            \n",
      "__________________________________________________________________________________________________\n",
      "Au-23-ele (InputLayer)          [(None, 150)]        0                                            \n",
      "__________________________________________________________________________________________________\n",
      "Au-24-ele (InputLayer)          [(None, 150)]        0                                            \n",
      "__________________________________________________________________________________________________\n",
      "Au-25-ele (InputLayer)          [(None, 150)]        0                                            \n",
      "__________________________________________________________________________________________________\n",
      "Au-26-ele (InputLayer)          [(None, 150)]        0                                            \n",
      "__________________________________________________________________________________________________\n",
      "Au-27-ele (InputLayer)          [(None, 150)]        0                                            \n",
      "__________________________________________________________________________________________________\n",
      "Au-28-ele (InputLayer)          [(None, 150)]        0                                            \n",
      "__________________________________________________________________________________________________\n",
      "Au-29-ele (InputLayer)          [(None, 150)]        0                                            \n",
      "__________________________________________________________________________________________________\n",
      "Au-30-ele (InputLayer)          [(None, 150)]        0                                            \n",
      "__________________________________________________________________________________________________\n",
      "Au-31-ele (InputLayer)          [(None, 150)]        0                                            \n",
      "__________________________________________________________________________________________________\n",
      "Au-32-ele (InputLayer)          [(None, 150)]        0                                            \n",
      "__________________________________________________________________________________________________\n",
      "Au-33-ele (InputLayer)          [(None, 150)]        0                                            \n",
      "__________________________________________________________________________________________________\n",
      "Au-34-ele (InputLayer)          [(None, 150)]        0                                            \n",
      "__________________________________________________________________________________________________\n",
      "Au-35-ele (InputLayer)          [(None, 150)]        0                                            \n",
      "__________________________________________________________________________________________________\n",
      "Au-36-ele (InputLayer)          [(None, 150)]        0                                            \n",
      "__________________________________________________________________________________________________\n",
      "Au-37-ele (InputLayer)          [(None, 150)]        0                                            \n",
      "__________________________________________________________________________________________________\n",
      "Au-38-ele (InputLayer)          [(None, 150)]        0                                            \n",
      "__________________________________________________________________________________________________\n",
      "sequential_9 (Sequential)       (None, 1)            3197        H-40-ele[0][0]                   \n",
      "                                                                 H-41-ele[0][0]                   \n",
      "__________________________________________________________________________________________________\n",
      "sequential_10 (Sequential)      (None, 1)            3197        O-39-ele[0][0]                   \n",
      "__________________________________________________________________________________________________\n",
      "sequential_11 (Sequential)      (None, 1)            3197        Au-0-ele[0][0]                   \n",
      "                                                                 Au-1-ele[0][0]                   \n",
      "                                                                 Au-2-ele[0][0]                   \n",
      "                                                                 Au-3-ele[0][0]                   \n",
      "                                                                 Au-4-ele[0][0]                   \n",
      "                                                                 Au-5-ele[0][0]                   \n",
      "                                                                 Au-6-ele[0][0]                   \n",
      "                                                                 Au-7-ele[0][0]                   \n",
      "                                                                 Au-8-ele[0][0]                   \n",
      "                                                                 Au-9-ele[0][0]                   \n",
      "                                                                 Au-10-ele[0][0]                  \n",
      "                                                                 Au-11-ele[0][0]                  \n",
      "                                                                 Au-12-ele[0][0]                  \n",
      "                                                                 Au-13-ele[0][0]                  \n",
      "                                                                 Au-14-ele[0][0]                  \n",
      "                                                                 Au-15-ele[0][0]                  \n",
      "                                                                 Au-16-ele[0][0]                  \n",
      "                                                                 Au-17-ele[0][0]                  \n",
      "                                                                 Au-18-ele[0][0]                  \n",
      "                                                                 Au-19-ele[0][0]                  \n",
      "                                                                 Au-20-ele[0][0]                  \n",
      "                                                                 Au-21-ele[0][0]                  \n",
      "                                                                 Au-22-ele[0][0]                  \n",
      "                                                                 Au-23-ele[0][0]                  \n",
      "                                                                 Au-24-ele[0][0]                  \n",
      "                                                                 Au-25-ele[0][0]                  \n",
      "                                                                 Au-26-ele[0][0]                  \n",
      "                                                                 Au-27-ele[0][0]                  \n",
      "                                                                 Au-28-ele[0][0]                  \n",
      "                                                                 Au-29-ele[0][0]                  \n",
      "                                                                 Au-30-ele[0][0]                  \n",
      "                                                                 Au-31-ele[0][0]                  \n",
      "                                                                 Au-32-ele[0][0]                  \n",
      "                                                                 Au-33-ele[0][0]                  \n",
      "                                                                 Au-34-ele[0][0]                  \n",
      "                                                                 Au-35-ele[0][0]                  \n",
      "                                                                 Au-36-ele[0][0]                  \n",
      "                                                                 Au-37-ele[0][0]                  \n",
      "                                                                 Au-38-ele[0][0]                  \n",
      "__________________________________________________________________________________________________\n",
      "add_3 (Add)                     (None, 1)            0           sequential_9[0][0]               \n",
      "                                                                 sequential_9[1][0]               \n",
      "                                                                 sequential_10[0][0]              \n",
      "                                                                 sequential_11[0][0]              \n",
      "                                                                 sequential_11[1][0]              \n",
      "                                                                 sequential_11[2][0]              \n",
      "                                                                 sequential_11[3][0]              \n",
      "                                                                 sequential_11[4][0]              \n",
      "                                                                 sequential_11[5][0]              \n",
      "                                                                 sequential_11[6][0]              \n",
      "                                                                 sequential_11[7][0]              \n",
      "                                                                 sequential_11[8][0]              \n",
      "                                                                 sequential_11[9][0]              \n",
      "                                                                 sequential_11[10][0]             \n",
      "                                                                 sequential_11[11][0]             \n",
      "                                                                 sequential_11[12][0]             \n",
      "                                                                 sequential_11[13][0]             \n",
      "                                                                 sequential_11[14][0]             \n",
      "                                                                 sequential_11[15][0]             \n",
      "                                                                 sequential_11[16][0]             \n",
      "                                                                 sequential_11[17][0]             \n",
      "                                                                 sequential_11[18][0]             \n",
      "                                                                 sequential_11[19][0]             \n",
      "                                                                 sequential_11[20][0]             \n",
      "                                                                 sequential_11[21][0]             \n",
      "                                                                 sequential_11[22][0]             \n",
      "                                                                 sequential_11[23][0]             \n",
      "                                                                 sequential_11[24][0]             \n",
      "                                                                 sequential_11[25][0]             \n",
      "                                                                 sequential_11[26][0]             \n",
      "                                                                 sequential_11[27][0]             \n",
      "                                                                 sequential_11[28][0]             \n",
      "                                                                 sequential_11[29][0]             \n",
      "                                                                 sequential_11[30][0]             \n",
      "                                                                 sequential_11[31][0]             \n",
      "                                                                 sequential_11[32][0]             \n",
      "                                                                 sequential_11[33][0]             \n",
      "                                                                 sequential_11[34][0]             \n",
      "                                                                 sequential_11[35][0]             \n",
      "                                                                 sequential_11[36][0]             \n",
      "                                                                 sequential_11[37][0]             \n",
      "                                                                 sequential_11[38][0]             \n",
      "==================================================================================================\n",
      "Total params: 9,591\n",
      "Trainable params: 9,591\n",
      "Non-trainable params: 0\n",
      "__________________________________________________________________________________________________\n",
      "None\n"
     ]
    }
   ],
   "source": [
    "print(model.summary())"
   ]
  },
  {
   "cell_type": "code",
   "execution_count": 64,
   "metadata": {},
   "outputs": [
    {
     "name": "stdout",
     "output_type": "stream",
     "text": [
      "[-11.791773    -9.663462    -8.878822     1.313339     6.6674833\n",
      "   8.327259     8.334852    11.44001     10.209883    11.653681\n",
      "  13.4632225  -10.261246    -9.6208935   -6.980595     0.526646\n",
      "   3.3227146    8.515295     9.885639    10.61055     10.61742\n",
      "   8.457615    10.078167    -4.1210117   -2.1497326    2.1007602\n",
      "   8.653671     9.507719     9.308023    10.656942    13.416601\n",
      "  14.017849    11.424498    13.030632     0.94356555  -0.56414163\n",
      "   3.7035785    5.4054646   10.267338    11.788475    12.96336\n",
      "  15.0266285   14.13434     12.935993    14.579935    -8.38172\n",
      "  -6.0489025   -5.6754937    0.1221628    6.186049     8.364603\n",
      "   9.310431    10.769949    11.798788    15.241671    16.125538\n",
      "  -3.632282    -5.2635407    0.60769963   4.7542887   15.794901\n",
      "  14.772625    13.939072    13.227376    11.120124    14.017834\n",
      "  14.374647     4.319134     4.162554     4.2642493   11.6196575\n",
      "  13.919523    14.220432     9.306374     6.158385     4.988257\n",
      "  13.608097    16.156172  ]\n"
     ]
    }
   ],
   "source": [
    "y_pred_scaled4 = model.predict(inp_train) #Application of the model\n",
    "y_pred4 = y_pred_scaled4.T[0]  # in kcal/mol unit\n",
    "print(y_pred4) #kcal/mol units\n",
    "#np.savetxt(\"4e\", y_pred4, delimiter=\",\")"
   ]
  },
  {
   "cell_type": "code",
   "execution_count": 66,
   "metadata": {},
   "outputs": [],
   "source": [
    "y_pred4*0.043 #ev units\n",
    "np.savetxt(\"4eV\", y_pred4*0.043, delimiter=\",\")"
   ]
  },
  {
   "cell_type": "code",
   "execution_count": null,
   "metadata": {},
   "outputs": [],
   "source": []
  }
 ],
 "metadata": {
  "kernelspec": {
   "display_name": "Python 3.8.13 ('thesis')",
   "language": "python",
   "name": "python3"
  },
  "language_info": {
   "codemirror_mode": {
    "name": "ipython",
    "version": 3
   },
   "file_extension": ".py",
   "mimetype": "text/x-python",
   "name": "python",
   "nbconvert_exporter": "python",
   "pygments_lexer": "ipython3",
   "version": "3.8.13"
  },
  "vscode": {
   "interpreter": {
    "hash": "1250fce717e8d22848d03e1ed78d4174112cf4adfb2ed454862b60d1688d06d6"
   }
  }
 },
 "nbformat": 4,
 "nbformat_minor": 2
}
