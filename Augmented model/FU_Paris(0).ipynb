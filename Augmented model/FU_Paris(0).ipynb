{
 "cells": [
  {
   "cell_type": "code",
   "execution_count": 79,
   "metadata": {},
   "outputs": [],
   "source": [
    "import os                                                              \n",
    "import time   \n",
    "import pickle\n",
    "import sys\n",
    "import numpy as np                                                     \n",
    "import pandas as pd   \n",
    "import seaborn as sns                                                  \n",
    "import matplotlib.pyplot as plt\n",
    "import math\n",
    "                                                                       \n",
    "from sklearn.metrics import mean_absolute_error                        \n",
    "from sklearn.metrics import mean_squared_error                         \n",
    "from sklearn.model_selection import train_test_split                   \n",
    "from sklearn.preprocessing import StandardScaler                       \n",
    "from sklearn.model_selection import train_test_split\n",
    "\n",
    "import keras                                                           \n",
    "from keras.optimizers import Adam                                      \n",
    "from keras.models import Model, Sequential                             \n",
    "from keras.layers import Input, Dense, Dropout, merge                  \n",
    "from keras.callbacks import ModelCheckpoint, Callback, EarlyStopping \n",
    "\n",
    "import ase                                                             \n",
    "import ase.build                                                       \n",
    "from ase import Atoms                                                  \n",
    "from ase.atoms import Atoms                                            \n",
    "from ase.io import read, write                                         \n",
    "from ase.calculators.dftb import Dftb                                  \n",
    "from ase.units import Hartree, mol, kcal, Bohr                         \n",
    "                                                                       \n",
    "from src.Calculator import src_nogrd     \n",
    "from src.Calculator.src_nogrd import dictonary_elements \n",
    "from src.Calculator.src_nogrd import symmetry_function                                                    \n",
    "from src.Calculator.src_nogrd import sym_func_show                                    \n",
    "from src.Calculator.src_nogrd import xyzArr_generator                                 \n",
    "from src.Calculator.src_nogrd import feat_scaling_func                                \n",
    "from src.Calculator.src_nogrd import at_idx_map_generator\n",
    "from src.Calculator.src_nogrd import at_idx_map_generator_old\n",
    "from src.Calculator.store_models import write_subnet_text\n",
    "                                                                                                                           \n",
    "import pickle\n",
    "from itertools import combinations_with_replacement as comb_replace\n",
    "                                                                       \n",
    "import src.Utils.DirNav                                                \n",
    "from src.Utils.dftb_traj_io import read_scan_traj\n",
    "import src.Utils.netBuilder\n",
    "from src.Utils.netBuilder import netBuilder"
   ]
  },
  {
   "cell_type": "code",
   "execution_count": 80,
   "metadata": {},
   "outputs": [],
   "source": [
    "train_name = 'Gold_3650'\n",
    "save_name = 'gold_sample_model'\n",
    "train_dir = os.path.join(train_name)\n",
    "save_dir = os.path.join(save_name)\n",
    "geom_filename          = 'nex.xyz'\n",
    "md_low_rel_e_arr_name  = 'dftb_nat.dat'\n",
    "md_high_rel_e_arr_name = 'pbe_nat.dat'\n",
    "try:\n",
    "    md_dftb_ref_e_arr = np.loadtxt(md_low_rel_e_arr_name)\n",
    "    md_pbe_ref_e_arr = np.loadtxt(md_high_rel_e_arr_name)\n",
    "except:\n",
    "    raise OSError(\"Cannot Read md_calc_rel_e_arr\")\n",
    "    #os.rmdir(save_dir)\n",
    "md_train_arr_origin    = read_scan_traj(filename=geom_filename)\n",
    "md_train_arr = md_train_arr_origin.copy(deep=False).reset_index(drop=True)\n",
    "md_rel_energy_arr = md_pbe_ref_e_arr - md_dftb_ref_e_arr\n",
    "# Get rid of error values.\n",
    "nan_index = np.where(np.isnan(md_rel_energy_arr))\n",
    "\n",
    "for idx in nan_index:\n",
    "    md_train_arr.drop(idx)\n",
    "    md_rel_energy_arr = md_rel_energy_arr[~np.isnan(md_rel_energy_arr)]"
   ]
  },
  {
   "cell_type": "code",
   "execution_count": 81,
   "metadata": {},
   "outputs": [],
   "source": [
    "# Maintainence: Natom is a global variable \n",
    "# Assumes that the configuration does not change the Number of atoms. \n",
    "nAtoms, xyzArr = xyzArr_generator(md_train_arr)# Calculate distance dataframe from xyz coordinates\n",
    "distances = src_nogrd.distances_from_xyz(xyzArr, nAtoms)"
   ]
  },
  {
   "cell_type": "code",
   "execution_count": 82,
   "metadata": {},
   "outputs": [],
   "source": [
    "def get_elements(struct):\n",
    "    struct = ase.io.read(struct, format = \"xyz\")\n",
    "    num=list(dict.fromkeys(struct.get_atomic_numbers()))\n",
    "    num.sort()\n",
    "    atomic_num=[f'{str(i)}' for i in num]\n",
    "    ELEMENTS=[]\n",
    "    for element in atomic_num:\n",
    "        ELEMENTS.append(dictonary_elements[element])\n",
    "    return ELEMENTS"
   ]
  },
  {
   "cell_type": "code",
   "execution_count": 83,
   "metadata": {},
   "outputs": [],
   "source": [
    "SUPPORTED_ELEMENTS=get_elements(geom_filename)"
   ]
  },
  {
   "cell_type": "code",
   "execution_count": 84,
   "metadata": {},
   "outputs": [
    {
     "name": "stdout",
     "output_type": "stream",
     "text": [
      "{'H': array([80, 81]), 'O': array([79]), 'Au': array([ 0,  1,  2,  3,  4,  5,  6,  7,  8,  9, 10, 11, 12, 13, 14, 15, 16,\n",
      "       17, 18, 19, 20, 21, 22, 23, 24, 25, 26, 27, 28, 29, 30, 31, 32, 33,\n",
      "       34, 35, 36, 37, 38, 39, 40, 41, 42, 43, 44, 45, 46, 47, 48, 49, 50,\n",
      "       51, 52, 53, 54, 55, 56, 57, 58, 59, 60, 61, 62, 63, 64, 65, 66, 67,\n",
      "       68, 69, 70, 71, 72, 73, 74, 75, 76, 77, 78])}\n"
     ]
    }
   ],
   "source": [
    "at_idx_map = at_idx_map_generator(md_train_arr[0])\n",
    "print(at_idx_map)"
   ]
  },
  {
   "cell_type": "code",
   "execution_count": 85,
   "metadata": {},
   "outputs": [],
   "source": [
    "cutoff_rad = 7 #max(distances.max(1))\n",
    "Rs_array = np.linspace(0.2, 7, num=14) #np.linspace(distances.min(1), max(distances.max(1)), num=int(max(distances.max(1))-min(distances.min(1))))   # based on max and min of the distances\n",
    "eta_array =  5/(np.square(0.2*Rs_array))  #((max(distances.max(1))- min(distances.min(1))))/(2*np.square(min(distances.min(1))*Rs_array))\n",
    "rad_params = np.array([(Rs_array[i], eta_array[i], cutoff_rad) for i in range(len(Rs_array)) ])\n",
    "# angular symmetry function parameters\n",
    "cutoff_ang =  5 #math.radians(min(all_ang)) #math.radians(max(all_ang))\n",
    "lambd_array = np.array([-1, 1])\n",
    "zeta_array = np.array([1, 4, 16]) #zeta_array = np.array([1, 4, 16])\n",
    "#zeta_array = np.array([math.radians(sum(all_ang)/len(all_ang))])\n",
    "eta_ang_array = np.array([0.001, 0.01, 0.05]) #eta_ang_array = np.array([0.001, 0.01, 0.05])\n",
    "#eta_ang_array = np.array([math.radians(min(all_ang))])\n",
    "\n",
    "# Each of the element need to be parametrized for all of the list. \n",
    "angList = np.array([e1+e2 for e1, e2 in comb_replace(SUPPORTED_ELEMENTS, 2)])\n",
    "#print(angList)\n",
    "ang_comp = {el : angList for el in SUPPORTED_ELEMENTS}\n",
    "ang_params = np.array([[eta, zeta, lambd, cutoff_ang] for eta in eta_ang_array for zeta in zeta_array for lambd in lambd_array])"
   ]
  },
  {
   "cell_type": "code",
   "execution_count": 86,
   "metadata": {},
   "outputs": [],
   "source": [
    "Gparam_dict = {}\n",
    "for at_type in at_idx_map.keys():\n",
    "   Gparam_dict[at_type] = {}\n",
    "   Gparam_dict[at_type]['rad'] = {}\n",
    "   for at2_rad in SUPPORTED_ELEMENTS:\n",
    "           Gparam_dict[at_type]['rad'][at2_rad] = rad_params\n",
    "\n",
    "   # This Section is already designed to be genera\n",
    "   Gparam_dict[at_type]['ang'] = {}\n",
    "   for at23_ang in ang_comp[at_type]:\n",
    "       Gparam_dict[at_type]['ang'][at23_ang] = ang_params"
   ]
  },
  {
   "cell_type": "code",
   "execution_count": 87,
   "metadata": {},
   "outputs": [
    {
     "name": "stdout",
     "output_type": "stream",
     "text": [
      "dict_keys(['H', 'O', 'Au'])\n",
      "dict_keys(['HH', 'HO', 'HAu', 'OO', 'OAu', 'AuAu'])\n"
     ]
    }
   ],
   "source": [
    "print(Gparam_dict[at_type]['rad'].keys())\n",
    "print(Gparam_dict[at_type]['ang'].keys())"
   ]
  },
  {
   "cell_type": "code",
   "execution_count": 88,
   "metadata": {},
   "outputs": [],
   "source": [
    "#with open('Gfunc.pkl', 'rb') as f:\n",
    "#    Gfunc_data = pickle.load(f)"
   ]
  },
  {
   "cell_type": "code",
   "execution_count": 89,
   "metadata": {},
   "outputs": [
    {
     "name": "stderr",
     "output_type": "stream",
     "text": [
      "c:\\Users\\claud\\Documents\\GitHub\\Gold_ML\\Augmented model\\src\\Calculator\\src_nogrd.py:585: FutureWarning: The default dtype for empty Series will be 'object' instead of 'float64' in a future version. Specify a dtype explicitly to silence this warning.\n",
      "  Gfunc_data = pd.Series([])\n",
      "c:\\Users\\claud\\Documents\\GitHub\\Gold_ML\\Augmented model\\src\\Calculator\\src_nogrd.py:593: FutureWarning: The default dtype for empty Series will be 'object' instead of 'float64' in a future version. Specify a dtype explicitly to silence this warning.\n",
      "  Gfunc_data[at_type] = pd.Series([])\n",
      "c:\\Users\\claud\\Documents\\GitHub\\Gold_ML\\Augmented model\\src\\Calculator\\src_nogrd.py:593: FutureWarning: The default dtype for empty Series will be 'object' instead of 'float64' in a future version. Specify a dtype explicitly to silence this warning.\n",
      "  Gfunc_data[at_type] = pd.Series([])\n",
      "c:\\Users\\claud\\Documents\\GitHub\\Gold_ML\\Augmented model\\src\\Calculator\\src_nogrd.py:593: FutureWarning: The default dtype for empty Series will be 'object' instead of 'float64' in a future version. Specify a dtype explicitly to silence this warning.\n",
      "  Gfunc_data[at_type] = pd.Series([])\n"
     ]
    }
   ],
   "source": [
    "Gfunc_data = symmetry_function(distances, at_idx_map, Gparam_dict)"
   ]
  },
  {
   "cell_type": "code",
   "execution_count": 90,
   "metadata": {},
   "outputs": [],
   "source": [
    "Gfunc_data.to_pickle('Gfunc.pkl')"
   ]
  },
  {
   "cell_type": "code",
   "execution_count": 91,
   "metadata": {},
   "outputs": [
    {
     "name": "stdout",
     "output_type": "stream",
     "text": [
      "[0.00000000e+000 0.00000000e+000 0.00000000e+000 0.00000000e+000\n",
      " 2.22809125e-183 2.42990594e-094 1.59827782e-050 1.83080999e-027\n",
      " 6.21760291e-015 3.96963840e-008 1.34946212e-004 5.27926659e-003\n",
      " 1.37853026e-002 6.83461495e-003 0.00000000e+000 0.00000000e+000\n",
      " 0.00000000e+000 0.00000000e+000 0.00000000e+000 0.00000000e+000\n",
      " 0.00000000e+000 0.00000000e+000 0.00000000e+000 0.00000000e+000\n",
      " 0.00000000e+000 0.00000000e+000 0.00000000e+000 0.00000000e+000\n",
      " 0.00000000e+000 0.00000000e+000 4.38457776e-093 1.21093806e-021\n",
      " 8.94895194e-004 5.55289547e+000 1.51236141e+000 1.29411959e+000\n",
      " 1.56753413e+000 2.93390758e+000 1.93712661e+000 6.71277830e-001\n",
      " 3.04175070e-001 9.43270428e-002 0.00000000e+000 0.00000000e+000\n",
      " 0.00000000e+000 0.00000000e+000 0.00000000e+000 0.00000000e+000\n",
      " 0.00000000e+000 0.00000000e+000 0.00000000e+000 0.00000000e+000\n",
      " 0.00000000e+000 0.00000000e+000 0.00000000e+000 0.00000000e+000\n",
      " 0.00000000e+000 0.00000000e+000 0.00000000e+000 0.00000000e+000\n",
      " 0.00000000e+000 0.00000000e+000 0.00000000e+000 0.00000000e+000\n",
      " 0.00000000e+000 0.00000000e+000 0.00000000e+000 0.00000000e+000\n",
      " 0.00000000e+000 0.00000000e+000 0.00000000e+000 0.00000000e+000\n",
      " 0.00000000e+000 0.00000000e+000 0.00000000e+000 0.00000000e+000\n",
      " 0.00000000e+000 0.00000000e+000 0.00000000e+000 0.00000000e+000\n",
      " 0.00000000e+000 0.00000000e+000 0.00000000e+000 0.00000000e+000\n",
      " 0.00000000e+000 0.00000000e+000 0.00000000e+000 0.00000000e+000\n",
      " 0.00000000e+000 0.00000000e+000 0.00000000e+000 0.00000000e+000\n",
      " 0.00000000e+000 0.00000000e+000 0.00000000e+000 0.00000000e+000\n",
      " 0.00000000e+000 0.00000000e+000 0.00000000e+000 0.00000000e+000\n",
      " 0.00000000e+000 0.00000000e+000 0.00000000e+000 0.00000000e+000\n",
      " 0.00000000e+000 0.00000000e+000 0.00000000e+000 0.00000000e+000\n",
      " 0.00000000e+000 0.00000000e+000 0.00000000e+000 0.00000000e+000\n",
      " 0.00000000e+000 0.00000000e+000 0.00000000e+000 0.00000000e+000\n",
      " 0.00000000e+000 0.00000000e+000 0.00000000e+000 0.00000000e+000\n",
      " 0.00000000e+000 0.00000000e+000 0.00000000e+000 0.00000000e+000\n",
      " 0.00000000e+000 0.00000000e+000 0.00000000e+000 0.00000000e+000\n",
      " 0.00000000e+000 0.00000000e+000 0.00000000e+000 0.00000000e+000\n",
      " 6.83884625e-001 2.04358274e+000 2.05394933e-002 9.10697682e-001\n",
      " 2.95696256e-006 5.70269978e-002 3.24608879e-001 9.71862638e-001\n",
      " 9.07159963e-003 4.30288837e-001 1.19985701e-006 2.52526188e-002\n",
      " 1.26998014e-002 3.82249449e-002 2.71883507e-004 1.65675739e-002\n",
      " 2.20897364e-008 7.58133334e-004]\n"
     ]
    }
   ],
   "source": [
    "print(Gfunc_data['Au'][32][0])"
   ]
  },
  {
   "cell_type": "code",
   "execution_count": 92,
   "metadata": {},
   "outputs": [],
   "source": [
    "n_symm_func = Gfunc_data['O'][at_idx_map['O'][0]].shape[1]"
   ]
  },
  {
   "cell_type": "code",
   "execution_count": 93,
   "metadata": {},
   "outputs": [],
   "source": [
    "sym_name = \"symFunc_all.param\"\n",
    "\n",
    "with open(sym_name, \"w\") as all_f:\n",
    "        all_f.write(f\"RadialCutoff = {str(cutoff_rad)} \\n\")\n",
    "        all_f.write(\"RadialParameters {\\n\") \n",
    "        for dist, eta in zip(Rs_array, eta_array):\n",
    "            all_f.write(f\"{dist} {eta}\\n\")\n",
    "        all_f.write(\"}\\n\") \n",
    "        all_f.write(f\"AngularCutoff = {str(cutoff_ang)} \\n\")\n",
    "        all_f.write(\"AngularParameters {\\n\") \n",
    "        for row in ang_params:\n",
    "            all_f.write(f\"{row[0]} {row[1]} {row[2]}\\n\")\n",
    "        all_f.write(\"}\\n\") "
   ]
  },
  {
   "cell_type": "code",
   "execution_count": 94,
   "metadata": {},
   "outputs": [],
   "source": [
    "# Glboal Var\n",
    "n_samples = len(md_train_arr)\n",
    "\n",
    "\n",
    "# Maintainence // Problem: In case we have no atom for that particular element, \n",
    "# it is difficult to give the input dimension\n",
    "    \n",
    "# Maintain: I assume that same amount of symmetry function is used for each atom  \n",
    "# Maintain: Need a input_dim_list_generator function in the future\n",
    "\"\"\"\n",
    "def input_dim_list_generator(element):\n",
    "    # In case of element with 0 atoms in the configuration\n",
    "    nAtomsForEle = len(at_idx_map(element));\n",
    "    if len nAtomsForEle == 0:\n",
    "        return (nAtomsForEle, )\n",
    "        \"\"\"\n",
    "#nSymFunc = Gfunc_data['O'][0].shape[1]\n",
    "n_symm_func = Gfunc_data['O'][  at_idx_map['O'][0]].shape[1]\n",
    "#input_dim_list = [(len(at_idx_map[at]) ,nSymFunc, nb_feat) for at in at_idx_map.keys()]\n",
    "\n",
    "input_dim_list = {}\n",
    "for at_type in at_idx_map:\n",
    "    input_dim_list[at_type] = (n_symm_func, 1)"
   ]
  },
  {
   "cell_type": "code",
   "execution_count": 95,
   "metadata": {},
   "outputs": [
    {
     "name": "stdout",
     "output_type": "stream",
     "text": [
      "Model: \"functional_5\"\n",
      "__________________________________________________________________________________________________\n",
      "Layer (type)                    Output Shape         Param #     Connected to                     \n",
      "==================================================================================================\n",
      "H-80-ele (InputLayer)           [(None, 150)]        0                                            \n",
      "__________________________________________________________________________________________________\n",
      "H-81-ele (InputLayer)           [(None, 150)]        0                                            \n",
      "__________________________________________________________________________________________________\n",
      "O-79-ele (InputLayer)           [(None, 150)]        0                                            \n",
      "__________________________________________________________________________________________________\n",
      "Au-0-ele (InputLayer)           [(None, 150)]        0                                            \n",
      "__________________________________________________________________________________________________\n",
      "Au-1-ele (InputLayer)           [(None, 150)]        0                                            \n",
      "__________________________________________________________________________________________________\n",
      "Au-2-ele (InputLayer)           [(None, 150)]        0                                            \n",
      "__________________________________________________________________________________________________\n",
      "Au-3-ele (InputLayer)           [(None, 150)]        0                                            \n",
      "__________________________________________________________________________________________________\n",
      "Au-4-ele (InputLayer)           [(None, 150)]        0                                            \n",
      "__________________________________________________________________________________________________\n",
      "Au-5-ele (InputLayer)           [(None, 150)]        0                                            \n",
      "__________________________________________________________________________________________________\n",
      "Au-6-ele (InputLayer)           [(None, 150)]        0                                            \n",
      "__________________________________________________________________________________________________\n",
      "Au-7-ele (InputLayer)           [(None, 150)]        0                                            \n",
      "__________________________________________________________________________________________________\n",
      "Au-8-ele (InputLayer)           [(None, 150)]        0                                            \n",
      "__________________________________________________________________________________________________\n",
      "Au-9-ele (InputLayer)           [(None, 150)]        0                                            \n",
      "__________________________________________________________________________________________________\n",
      "Au-10-ele (InputLayer)          [(None, 150)]        0                                            \n",
      "__________________________________________________________________________________________________\n",
      "Au-11-ele (InputLayer)          [(None, 150)]        0                                            \n",
      "__________________________________________________________________________________________________\n",
      "Au-12-ele (InputLayer)          [(None, 150)]        0                                            \n",
      "__________________________________________________________________________________________________\n",
      "Au-13-ele (InputLayer)          [(None, 150)]        0                                            \n",
      "__________________________________________________________________________________________________\n",
      "Au-14-ele (InputLayer)          [(None, 150)]        0                                            \n",
      "__________________________________________________________________________________________________\n",
      "Au-15-ele (InputLayer)          [(None, 150)]        0                                            \n",
      "__________________________________________________________________________________________________\n",
      "Au-16-ele (InputLayer)          [(None, 150)]        0                                            \n",
      "__________________________________________________________________________________________________\n",
      "Au-17-ele (InputLayer)          [(None, 150)]        0                                            \n",
      "__________________________________________________________________________________________________\n",
      "Au-18-ele (InputLayer)          [(None, 150)]        0                                            \n",
      "__________________________________________________________________________________________________\n",
      "Au-19-ele (InputLayer)          [(None, 150)]        0                                            \n",
      "__________________________________________________________________________________________________\n",
      "Au-20-ele (InputLayer)          [(None, 150)]        0                                            \n",
      "__________________________________________________________________________________________________\n",
      "Au-21-ele (InputLayer)          [(None, 150)]        0                                            \n",
      "__________________________________________________________________________________________________\n",
      "Au-22-ele (InputLayer)          [(None, 150)]        0                                            \n",
      "__________________________________________________________________________________________________\n",
      "Au-23-ele (InputLayer)          [(None, 150)]        0                                            \n",
      "__________________________________________________________________________________________________\n",
      "Au-24-ele (InputLayer)          [(None, 150)]        0                                            \n",
      "__________________________________________________________________________________________________\n",
      "Au-25-ele (InputLayer)          [(None, 150)]        0                                            \n",
      "__________________________________________________________________________________________________\n",
      "Au-26-ele (InputLayer)          [(None, 150)]        0                                            \n",
      "__________________________________________________________________________________________________\n",
      "Au-27-ele (InputLayer)          [(None, 150)]        0                                            \n",
      "__________________________________________________________________________________________________\n",
      "Au-28-ele (InputLayer)          [(None, 150)]        0                                            \n",
      "__________________________________________________________________________________________________\n",
      "Au-29-ele (InputLayer)          [(None, 150)]        0                                            \n",
      "__________________________________________________________________________________________________\n",
      "Au-30-ele (InputLayer)          [(None, 150)]        0                                            \n",
      "__________________________________________________________________________________________________\n",
      "Au-31-ele (InputLayer)          [(None, 150)]        0                                            \n",
      "__________________________________________________________________________________________________\n",
      "Au-32-ele (InputLayer)          [(None, 150)]        0                                            \n",
      "__________________________________________________________________________________________________\n",
      "Au-33-ele (InputLayer)          [(None, 150)]        0                                            \n",
      "__________________________________________________________________________________________________\n",
      "Au-34-ele (InputLayer)          [(None, 150)]        0                                            \n",
      "__________________________________________________________________________________________________\n",
      "Au-35-ele (InputLayer)          [(None, 150)]        0                                            \n",
      "__________________________________________________________________________________________________\n",
      "Au-36-ele (InputLayer)          [(None, 150)]        0                                            \n",
      "__________________________________________________________________________________________________\n",
      "Au-37-ele (InputLayer)          [(None, 150)]        0                                            \n",
      "__________________________________________________________________________________________________\n",
      "Au-38-ele (InputLayer)          [(None, 150)]        0                                            \n",
      "__________________________________________________________________________________________________\n",
      "Au-39-ele (InputLayer)          [(None, 150)]        0                                            \n",
      "__________________________________________________________________________________________________\n",
      "Au-40-ele (InputLayer)          [(None, 150)]        0                                            \n",
      "__________________________________________________________________________________________________\n",
      "Au-41-ele (InputLayer)          [(None, 150)]        0                                            \n",
      "__________________________________________________________________________________________________\n",
      "Au-42-ele (InputLayer)          [(None, 150)]        0                                            \n",
      "__________________________________________________________________________________________________\n",
      "Au-43-ele (InputLayer)          [(None, 150)]        0                                            \n",
      "__________________________________________________________________________________________________\n",
      "Au-44-ele (InputLayer)          [(None, 150)]        0                                            \n",
      "__________________________________________________________________________________________________\n",
      "Au-45-ele (InputLayer)          [(None, 150)]        0                                            \n",
      "__________________________________________________________________________________________________\n",
      "Au-46-ele (InputLayer)          [(None, 150)]        0                                            \n",
      "__________________________________________________________________________________________________\n",
      "Au-47-ele (InputLayer)          [(None, 150)]        0                                            \n",
      "__________________________________________________________________________________________________\n",
      "Au-48-ele (InputLayer)          [(None, 150)]        0                                            \n",
      "__________________________________________________________________________________________________\n",
      "Au-49-ele (InputLayer)          [(None, 150)]        0                                            \n",
      "__________________________________________________________________________________________________\n",
      "Au-50-ele (InputLayer)          [(None, 150)]        0                                            \n",
      "__________________________________________________________________________________________________\n",
      "Au-51-ele (InputLayer)          [(None, 150)]        0                                            \n",
      "__________________________________________________________________________________________________\n",
      "Au-52-ele (InputLayer)          [(None, 150)]        0                                            \n",
      "__________________________________________________________________________________________________\n",
      "Au-53-ele (InputLayer)          [(None, 150)]        0                                            \n",
      "__________________________________________________________________________________________________\n",
      "Au-54-ele (InputLayer)          [(None, 150)]        0                                            \n",
      "__________________________________________________________________________________________________\n",
      "Au-55-ele (InputLayer)          [(None, 150)]        0                                            \n",
      "__________________________________________________________________________________________________\n",
      "Au-56-ele (InputLayer)          [(None, 150)]        0                                            \n",
      "__________________________________________________________________________________________________\n",
      "Au-57-ele (InputLayer)          [(None, 150)]        0                                            \n",
      "__________________________________________________________________________________________________\n",
      "Au-58-ele (InputLayer)          [(None, 150)]        0                                            \n",
      "__________________________________________________________________________________________________\n",
      "Au-59-ele (InputLayer)          [(None, 150)]        0                                            \n",
      "__________________________________________________________________________________________________\n",
      "Au-60-ele (InputLayer)          [(None, 150)]        0                                            \n",
      "__________________________________________________________________________________________________\n",
      "Au-61-ele (InputLayer)          [(None, 150)]        0                                            \n",
      "__________________________________________________________________________________________________\n",
      "Au-62-ele (InputLayer)          [(None, 150)]        0                                            \n",
      "__________________________________________________________________________________________________\n",
      "Au-63-ele (InputLayer)          [(None, 150)]        0                                            \n",
      "__________________________________________________________________________________________________\n",
      "Au-64-ele (InputLayer)          [(None, 150)]        0                                            \n",
      "__________________________________________________________________________________________________\n",
      "Au-65-ele (InputLayer)          [(None, 150)]        0                                            \n",
      "__________________________________________________________________________________________________\n",
      "Au-66-ele (InputLayer)          [(None, 150)]        0                                            \n",
      "__________________________________________________________________________________________________\n",
      "Au-67-ele (InputLayer)          [(None, 150)]        0                                            \n",
      "__________________________________________________________________________________________________\n",
      "Au-68-ele (InputLayer)          [(None, 150)]        0                                            \n",
      "__________________________________________________________________________________________________\n",
      "Au-69-ele (InputLayer)          [(None, 150)]        0                                            \n",
      "__________________________________________________________________________________________________\n",
      "Au-70-ele (InputLayer)          [(None, 150)]        0                                            \n",
      "__________________________________________________________________________________________________\n",
      "Au-71-ele (InputLayer)          [(None, 150)]        0                                            \n",
      "__________________________________________________________________________________________________\n",
      "Au-72-ele (InputLayer)          [(None, 150)]        0                                            \n",
      "__________________________________________________________________________________________________\n",
      "Au-73-ele (InputLayer)          [(None, 150)]        0                                            \n",
      "__________________________________________________________________________________________________\n",
      "Au-74-ele (InputLayer)          [(None, 150)]        0                                            \n",
      "__________________________________________________________________________________________________\n",
      "Au-75-ele (InputLayer)          [(None, 150)]        0                                            \n",
      "__________________________________________________________________________________________________\n",
      "Au-76-ele (InputLayer)          [(None, 150)]        0                                            \n",
      "__________________________________________________________________________________________________\n",
      "Au-77-ele (InputLayer)          [(None, 150)]        0                                            \n",
      "__________________________________________________________________________________________________\n",
      "Au-78-ele (InputLayer)          [(None, 150)]        0                                            \n",
      "__________________________________________________________________________________________________\n",
      "H-subnet (Sequential)           (None, 1)            3197        H-80-ele[0][0]                   \n",
      "                                                                 H-81-ele[0][0]                   \n",
      "__________________________________________________________________________________________________\n",
      "O-subnet (Sequential)           (None, 1)            3197        O-79-ele[0][0]                   \n",
      "__________________________________________________________________________________________________\n",
      "Au-subnet (Sequential)          (None, 1)            3197        Au-0-ele[0][0]                   \n",
      "                                                                 Au-1-ele[0][0]                   \n",
      "                                                                 Au-2-ele[0][0]                   \n",
      "                                                                 Au-3-ele[0][0]                   \n",
      "                                                                 Au-4-ele[0][0]                   \n",
      "                                                                 Au-5-ele[0][0]                   \n",
      "                                                                 Au-6-ele[0][0]                   \n",
      "                                                                 Au-7-ele[0][0]                   \n",
      "                                                                 Au-8-ele[0][0]                   \n",
      "                                                                 Au-9-ele[0][0]                   \n",
      "                                                                 Au-10-ele[0][0]                  \n",
      "                                                                 Au-11-ele[0][0]                  \n",
      "                                                                 Au-12-ele[0][0]                  \n",
      "                                                                 Au-13-ele[0][0]                  \n",
      "                                                                 Au-14-ele[0][0]                  \n",
      "                                                                 Au-15-ele[0][0]                  \n",
      "                                                                 Au-16-ele[0][0]                  \n",
      "                                                                 Au-17-ele[0][0]                  \n",
      "                                                                 Au-18-ele[0][0]                  \n",
      "                                                                 Au-19-ele[0][0]                  \n",
      "                                                                 Au-20-ele[0][0]                  \n",
      "                                                                 Au-21-ele[0][0]                  \n",
      "                                                                 Au-22-ele[0][0]                  \n",
      "                                                                 Au-23-ele[0][0]                  \n",
      "                                                                 Au-24-ele[0][0]                  \n",
      "                                                                 Au-25-ele[0][0]                  \n",
      "                                                                 Au-26-ele[0][0]                  \n",
      "                                                                 Au-27-ele[0][0]                  \n",
      "                                                                 Au-28-ele[0][0]                  \n",
      "                                                                 Au-29-ele[0][0]                  \n",
      "                                                                 Au-30-ele[0][0]                  \n",
      "                                                                 Au-31-ele[0][0]                  \n",
      "                                                                 Au-32-ele[0][0]                  \n",
      "                                                                 Au-33-ele[0][0]                  \n",
      "                                                                 Au-34-ele[0][0]                  \n",
      "                                                                 Au-35-ele[0][0]                  \n",
      "                                                                 Au-36-ele[0][0]                  \n",
      "                                                                 Au-37-ele[0][0]                  \n",
      "                                                                 Au-38-ele[0][0]                  \n",
      "                                                                 Au-39-ele[0][0]                  \n",
      "                                                                 Au-40-ele[0][0]                  \n",
      "                                                                 Au-41-ele[0][0]                  \n",
      "                                                                 Au-42-ele[0][0]                  \n",
      "                                                                 Au-43-ele[0][0]                  \n",
      "                                                                 Au-44-ele[0][0]                  \n",
      "                                                                 Au-45-ele[0][0]                  \n",
      "                                                                 Au-46-ele[0][0]                  \n",
      "                                                                 Au-47-ele[0][0]                  \n",
      "                                                                 Au-48-ele[0][0]                  \n",
      "                                                                 Au-49-ele[0][0]                  \n",
      "                                                                 Au-50-ele[0][0]                  \n",
      "                                                                 Au-51-ele[0][0]                  \n",
      "                                                                 Au-52-ele[0][0]                  \n",
      "                                                                 Au-53-ele[0][0]                  \n",
      "                                                                 Au-54-ele[0][0]                  \n",
      "                                                                 Au-55-ele[0][0]                  \n",
      "                                                                 Au-56-ele[0][0]                  \n",
      "                                                                 Au-57-ele[0][0]                  \n",
      "                                                                 Au-58-ele[0][0]                  \n",
      "                                                                 Au-59-ele[0][0]                  \n",
      "                                                                 Au-60-ele[0][0]                  \n",
      "                                                                 Au-61-ele[0][0]                  \n",
      "                                                                 Au-62-ele[0][0]                  \n",
      "                                                                 Au-63-ele[0][0]                  \n",
      "                                                                 Au-64-ele[0][0]                  \n",
      "                                                                 Au-65-ele[0][0]                  \n",
      "                                                                 Au-66-ele[0][0]                  \n",
      "                                                                 Au-67-ele[0][0]                  \n",
      "                                                                 Au-68-ele[0][0]                  \n",
      "                                                                 Au-69-ele[0][0]                  \n",
      "                                                                 Au-70-ele[0][0]                  \n",
      "                                                                 Au-71-ele[0][0]                  \n",
      "                                                                 Au-72-ele[0][0]                  \n",
      "                                                                 Au-73-ele[0][0]                  \n",
      "                                                                 Au-74-ele[0][0]                  \n",
      "                                                                 Au-75-ele[0][0]                  \n",
      "                                                                 Au-76-ele[0][0]                  \n",
      "                                                                 Au-77-ele[0][0]                  \n",
      "                                                                 Au-78-ele[0][0]                  \n",
      "__________________________________________________________________________________________________\n",
      "add_2 (Add)                     (None, 1)            0           H-subnet[0][0]                   \n",
      "                                                                 H-subnet[1][0]                   \n",
      "                                                                 O-subnet[0][0]                   \n",
      "                                                                 Au-subnet[0][0]                  \n",
      "                                                                 Au-subnet[1][0]                  \n",
      "                                                                 Au-subnet[2][0]                  \n",
      "                                                                 Au-subnet[3][0]                  \n",
      "                                                                 Au-subnet[4][0]                  \n",
      "                                                                 Au-subnet[5][0]                  \n",
      "                                                                 Au-subnet[6][0]                  \n",
      "                                                                 Au-subnet[7][0]                  \n",
      "                                                                 Au-subnet[8][0]                  \n",
      "                                                                 Au-subnet[9][0]                  \n",
      "                                                                 Au-subnet[10][0]                 \n",
      "                                                                 Au-subnet[11][0]                 \n",
      "                                                                 Au-subnet[12][0]                 \n",
      "                                                                 Au-subnet[13][0]                 \n",
      "                                                                 Au-subnet[14][0]                 \n",
      "                                                                 Au-subnet[15][0]                 \n",
      "                                                                 Au-subnet[16][0]                 \n",
      "                                                                 Au-subnet[17][0]                 \n",
      "                                                                 Au-subnet[18][0]                 \n",
      "                                                                 Au-subnet[19][0]                 \n",
      "                                                                 Au-subnet[20][0]                 \n",
      "                                                                 Au-subnet[21][0]                 \n",
      "                                                                 Au-subnet[22][0]                 \n",
      "                                                                 Au-subnet[23][0]                 \n",
      "                                                                 Au-subnet[24][0]                 \n",
      "                                                                 Au-subnet[25][0]                 \n",
      "                                                                 Au-subnet[26][0]                 \n",
      "                                                                 Au-subnet[27][0]                 \n",
      "                                                                 Au-subnet[28][0]                 \n",
      "                                                                 Au-subnet[29][0]                 \n",
      "                                                                 Au-subnet[30][0]                 \n",
      "                                                                 Au-subnet[31][0]                 \n",
      "                                                                 Au-subnet[32][0]                 \n",
      "                                                                 Au-subnet[33][0]                 \n",
      "                                                                 Au-subnet[34][0]                 \n",
      "                                                                 Au-subnet[35][0]                 \n",
      "                                                                 Au-subnet[36][0]                 \n",
      "                                                                 Au-subnet[37][0]                 \n",
      "                                                                 Au-subnet[38][0]                 \n",
      "                                                                 Au-subnet[39][0]                 \n",
      "                                                                 Au-subnet[40][0]                 \n",
      "                                                                 Au-subnet[41][0]                 \n",
      "                                                                 Au-subnet[42][0]                 \n",
      "                                                                 Au-subnet[43][0]                 \n",
      "                                                                 Au-subnet[44][0]                 \n",
      "                                                                 Au-subnet[45][0]                 \n",
      "                                                                 Au-subnet[46][0]                 \n",
      "                                                                 Au-subnet[47][0]                 \n",
      "                                                                 Au-subnet[48][0]                 \n",
      "                                                                 Au-subnet[49][0]                 \n",
      "                                                                 Au-subnet[50][0]                 \n",
      "                                                                 Au-subnet[51][0]                 \n",
      "                                                                 Au-subnet[52][0]                 \n",
      "                                                                 Au-subnet[53][0]                 \n",
      "                                                                 Au-subnet[54][0]                 \n",
      "                                                                 Au-subnet[55][0]                 \n",
      "                                                                 Au-subnet[56][0]                 \n",
      "                                                                 Au-subnet[57][0]                 \n",
      "                                                                 Au-subnet[58][0]                 \n",
      "                                                                 Au-subnet[59][0]                 \n",
      "                                                                 Au-subnet[60][0]                 \n",
      "                                                                 Au-subnet[61][0]                 \n",
      "                                                                 Au-subnet[62][0]                 \n",
      "                                                                 Au-subnet[63][0]                 \n",
      "                                                                 Au-subnet[64][0]                 \n",
      "                                                                 Au-subnet[65][0]                 \n",
      "                                                                 Au-subnet[66][0]                 \n",
      "                                                                 Au-subnet[67][0]                 \n",
      "                                                                 Au-subnet[68][0]                 \n",
      "                                                                 Au-subnet[69][0]                 \n",
      "                                                                 Au-subnet[70][0]                 \n",
      "                                                                 Au-subnet[71][0]                 \n",
      "                                                                 Au-subnet[72][0]                 \n",
      "                                                                 Au-subnet[73][0]                 \n",
      "                                                                 Au-subnet[74][0]                 \n",
      "                                                                 Au-subnet[75][0]                 \n",
      "                                                                 Au-subnet[76][0]                 \n",
      "                                                                 Au-subnet[77][0]                 \n",
      "                                                                 Au-subnet[78][0]                 \n",
      "==================================================================================================\n",
      "Total params: 9,591\n",
      "Trainable params: 9,591\n",
      "Non-trainable params: 0\n",
      "__________________________________________________________________________________________________\n",
      "None\n"
     ]
    }
   ],
   "source": [
    "n_symm_func = Gfunc_data['O'][at_idx_map['O'][0]].shape[1]\n",
    "builder = netBuilder(SUPPORTED_ELEMENTS, n_symm_func)\n",
    "subnets = builder.build_subnets(n_dense_layers=3, n_units=17, \n",
    "                      hidden_activation='tanh',\n",
    "                      dropout_type=\"NoDrop\", dropout_ratio=0.2)\n",
    "model = builder.build_molecular_net(at_idx_map, subnets)\n",
    "print(model.summary())"
   ]
  },
  {
   "cell_type": "code",
   "execution_count": 96,
   "metadata": {},
   "outputs": [],
   "source": [
    "def idx_generator(n_samples, val_ratio, test_ratio):\n",
    "    \"\"\"\n",
    "    Function:\n",
    "    Randomly shuffle the indexes and to generate indexes for the training, validation and test set.\n",
    "    \n",
    "        Args:\n",
    "            n_samples: number of samples, an interger\n",
    "            val_ratio: ratio of the validation set (compared with all data set)\n",
    "            test_ratio: \n",
    "    \n",
    "        Warning: 0 < val_ratio + test_ratio < 1.\n",
    "    \n",
    "        Output:\n",
    "            train_idx: indexes for training set\n",
    "            val_idx: indexes for the validation set\n",
    "            test_idx: indexes for the test set    \n",
    "    \"\"\"\n",
    "    if val_ratio + test_ratio >= 1 or val_ratio + test_ratio <= 0:\n",
    "        raise  ValueError(\"idx_generator: the val_ratio and test_ratio must be in between 0 and 1\")\n",
    "    \n",
    "    shuffled_indices = np.random.permutation(n_samples)\n",
    "    \n",
    "    \n",
    "    val_set_size = int(n_samples * val_ratio)\n",
    "    val_idx  = shuffled_indices[:val_set_size]\n",
    "    \n",
    "    test_set_size= int(n_samples * val_ratio)\n",
    "    test_idx = shuffled_indices[val_set_size:val_set_size+test_set_size]\n",
    "    \n",
    "    train_idx = shuffled_indices[val_set_size + test_set_size:]\n",
    "    \n",
    "    return train_idx, val_idx, test_idx\n",
    "    "
   ]
  },
  {
   "cell_type": "code",
   "execution_count": 97,
   "metadata": {},
   "outputs": [],
   "source": [
    "## Split the Training, Validation & Test Data \n",
    "n_samples = len(md_train_arr)\n",
    "train_idx, val_idx, test_idx = idx_generator(n_samples, 0.1,0.1)\n",
    "if train_idx.shape[0] + test_idx.shape[0] + val_idx.shape[0] != n_samples:\n",
    "    raise ValueError(\"Splitting Test does not equal to the entire set!\")"
   ]
  },
  {
   "cell_type": "code",
   "execution_count": 98,
   "metadata": {},
   "outputs": [],
   "source": [
    "y_train = md_rel_energy_arr[train_idx] \n",
    "y_val   = md_rel_energy_arr[val_idx]\n",
    "y_test  = md_rel_energy_arr[test_idx] \n",
    "\n"
   ]
  },
  {
   "cell_type": "code",
   "execution_count": 99,
   "metadata": {},
   "outputs": [
    {
     "name": "stdout",
     "output_type": "stream",
     "text": [
      "y_train min, max =  -1628065.12143  -1628031.73781\n",
      "y_test min, max =  -1628063.80489  -1628038.39925\n"
     ]
    }
   ],
   "source": [
    "print('y_train min, max = ', '%.5f  %.5f' %(y_train.min(), y_train.max() ))\n",
    "print('y_test min, max = ', '%.5f  %.5f' %(y_test.min(), y_test.max()) )"
   ]
  },
  {
   "cell_type": "code",
   "execution_count": 100,
   "metadata": {},
   "outputs": [
    {
     "data": {
      "text/plain": [
       "-1628065.12143"
      ]
     },
     "execution_count": 100,
     "metadata": {},
     "output_type": "execute_result"
    }
   ],
   "source": [
    "md_rel_energy_arr.min()"
   ]
  },
  {
   "cell_type": "code",
   "execution_count": 101,
   "metadata": {},
   "outputs": [
    {
     "data": {
      "text/plain": [
       "-1628031.73781"
      ]
     },
     "execution_count": 101,
     "metadata": {},
     "output_type": "execute_result"
    }
   ],
   "source": [
    "md_rel_energy_arr.max()"
   ]
  },
  {
   "cell_type": "code",
   "execution_count": 102,
   "metadata": {},
   "outputs": [],
   "source": [
    "def split_training_data(Feat_data, at_idx_map, train_idx, val_idx, test_idx):\n",
    "    \"\"\"\n",
    "    Function:\n",
    "    Split the training set, \n",
    "        \n",
    "    Input:\n",
    "    Feat_data_train: Strucutre for the feat data Feat_data_train['element'][atom]\n",
    "    at_idx_map: Atom Index Map\n",
    "    train_idx: the indices used for the training \n",
    "    \n",
    "    \n",
    "    Output:\n",
    "    Return the Feat_train, Feat_val and Feat_test set in the shape\n",
    "    Feat_scaler['element'][atom][Feature Number]    \n",
    "    \"\"\"\n",
    "    \n",
    "    \n",
    "    Feat_train_scaled = {}\n",
    "    Feat_val_scaled = {}\n",
    "    Feat_test_scaled = {}\n",
    "\n",
    "    \n",
    "    for at_type in at_idx_map.keys():\n",
    "        Feat_train_scaled[at_type] = {}\n",
    "        Feat_val_scaled[at_type] = {}\n",
    "        Feat_test_scaled[at_type] = {}\n",
    "        \n",
    "        for at in at_idx_map[at_type]:\n",
    "            Feat_train_scaled[at_type][at] = Feat_data[at_type][at][train_idx,]\n",
    "            #import pdb; pdb.set_trace()\n",
    "            Feat_val_scaled[at_type][at]   = Feat_data[at_type][at][val_idx,]\n",
    "            Feat_test_scaled[at_type][at]  = Feat_data[at_type][at][test_idx,]\n",
    "            \n",
    "\n",
    "            \n",
    "    \n",
    "    return Feat_train_scaled, Feat_val_scaled, Feat_test_scaled\n",
    "\n"
   ]
  },
  {
   "cell_type": "code",
   "execution_count": 103,
   "metadata": {},
   "outputs": [],
   "source": [
    "train_scaled, val_scaled, test_scaled = split_training_data(Gfunc_data, at_idx_map, train_idx, val_idx, test_idx)"
   ]
  },
  {
   "cell_type": "code",
   "execution_count": 104,
   "metadata": {},
   "outputs": [],
   "source": [
    "inp_train = []\n",
    "inp_val   = []\n",
    "inp_test  = []\n",
    "for at_type in at_idx_map.keys():\n",
    "\n",
    "    for atA in at_idx_map[at_type]:\n",
    "        inp_train.append(train_scaled[at_type][atA])\n",
    "        #inp_train.append(Feat_train_scaled[at_type][atA])\n",
    "        \n",
    "        inp_val.append(val_scaled[at_type][atA])\n",
    "        #inp_val.append(Feat_val_scaled[at_type][atA])\n",
    "        \n",
    "        inp_test.append(test_scaled[at_type][atA])\n",
    "        #inp_test.append(Feat_test_scaled[at_type][atA])\n",
    "        "
   ]
  },
  {
   "cell_type": "code",
   "execution_count": 105,
   "metadata": {},
   "outputs": [],
   "source": [
    "def get_inp(at_idx_map, Gfunc_scaled, Feat_scaled):\n",
    "    inp_arr = []\n",
    "    for at_type in at_idx_map.keys():\n",
    "        for at_idx in at_idx_map[at_type]:\n",
    "            inp_arr.append(Gfunc_scaled[at_type][at_idx])\n",
    "            inp_arr.append(Feat_scaled[at_type][at_idx])\n",
    "    \n",
    "    return pd.Series(inp_arr)"
   ]
  },
  {
   "cell_type": "code",
   "execution_count": 106,
   "metadata": {},
   "outputs": [
    {
     "name": "stderr",
     "output_type": "stream",
     "text": [
      "A subdirectory or file model_2B_nUnit already exists.\n"
     ]
    }
   ],
   "source": [
    "model_folder = \"model_2B_nUnit\"\n",
    "!mkdir $model_folder\n",
    "nUnit = 34\n",
    "\n",
    "check1 = model_folder +'/' + str(nUnit) + '.hdf5'\n",
    "checkpointer = ModelCheckpoint(filepath=check1, verbose=0,  monitor='val_mean_squared_error',\\\n",
    "                               mode='min', save_best_only=True)\n",
    "earlystop = EarlyStopping(monitor='val_mean_squared_error', mode='min', patience=100, verbose=0)\n",
    "\n",
    "#Mode == 'NoFirstDrop':\n",
    "\n"
   ]
  },
  {
   "cell_type": "code",
   "execution_count": 107,
   "metadata": {},
   "outputs": [
    {
     "name": "stdout",
     "output_type": "stream",
     "text": [
      "Training Session 1: Learning Rate 0.005\n"
     ]
    },
    {
     "data": {
      "image/png": "[encoded data removed]",
      "text/plain": [
       "<Figure size 640x480 with 1 Axes>"
      ]
     },
     "metadata": {},
     "output_type": "display_data"
    }
   ],
   "source": [
    "print(\"Training Session 1: Learning Rate\", 5e-3)\n",
    "model.compile(loss='mean_squared_error',\n",
    "              optimizer=Adam(lr=5e-3,decay=1e-5),\n",
    "              metrics=['mean_squared_error', 'mean_absolute_error'])\n",
    "\n",
    "history = model.fit(inp_train, y_train, \\\n",
    "                    callbacks=[checkpointer, earlystop],\n",
    "                    batch_size=64, epochs=1500, shuffle=True,\n",
    "                    verbose=0, validation_data=(inp_val, y_val)\n",
    "                    )\n",
    "\n",
    "plt.plot(history.history['val_mean_squared_error'])\n",
    "plt.plot(history.history['mean_squared_error'])\n",
    "plt.show()"
   ]
  },
  {
   "cell_type": "code",
   "execution_count": 108,
   "metadata": {},
   "outputs": [
    {
     "name": "stdout",
     "output_type": "stream",
     "text": [
      "Training Session 2: Learning Rate 0.0005\n"
     ]
    },
    {
     "data": {
      "image/png": "[encoded data removed]",
      "text/plain": [
       "<Figure size 640x480 with 1 Axes>"
      ]
     },
     "metadata": {},
     "output_type": "display_data"
    }
   ],
   "source": [
    "print(\"Training Session 2: Learning Rate\", 5e-4)\n",
    "model.compile(loss='mean_squared_error',\n",
    "              optimizer=Adam(lr=5e-4,decay=1e-5),\n",
    "              metrics=['mean_squared_error', 'mean_absolute_error'])\n",
    "\n",
    "history2 = model.fit(inp_train, y_train, \\\n",
    "                     callbacks=[checkpointer, earlystop],\n",
    "                    batch_size=64, epochs=1500, shuffle=True,\n",
    "                    verbose=0, validation_data=(inp_val, y_val)\n",
    "                    )\n",
    "\n",
    "plt.plot(history2.history['val_mean_squared_error'])\n",
    "plt.plot(history2.history['mean_squared_error'])\n",
    "plt.show()"
   ]
  },
  {
   "cell_type": "code",
   "execution_count": 109,
   "metadata": {},
   "outputs": [
    {
     "name": "stdout",
     "output_type": "stream",
     "text": [
      "Training Session 3: Learning Rate 0.0001\n"
     ]
    },
    {
     "data": {
      "image/png": "[encoded data removed]",
      "text/plain": [
       "<Figure size 640x480 with 1 Axes>"
      ]
     },
     "metadata": {},
     "output_type": "display_data"
    }
   ],
   "source": [
    "print(\"Training Session 3: Learning Rate\", 1e-4)\n",
    "model.compile(loss='mean_squared_error',\n",
    "              optimizer=Adam(lr=1e-4,decay=1e-5),\n",
    "              metrics=['mean_squared_error', 'mean_absolute_error'])\n",
    "\n",
    "history3 = model.fit(inp_train, y_train, \\\n",
    "                     callbacks=[checkpointer, earlystop],\n",
    "                    batch_size=64, epochs=1500, shuffle=True,\n",
    "                    verbose=0, validation_data=(inp_val, y_val)\n",
    "                    )\n",
    "\n",
    "plt.plot(history3.history['val_mean_squared_error'])\n",
    "plt.plot(history3.history['mean_squared_error'])\n",
    "plt.show()"
   ]
  },
  {
   "cell_type": "code",
   "execution_count": 110,
   "metadata": {},
   "outputs": [
    {
     "name": "stdout",
     "output_type": "stream",
     "text": [
      "Training Session 4: Learning Rate 5e-05\n"
     ]
    },
    {
     "data": {
      "image/png": "[encoded data removed]",
      "text/plain": [
       "<Figure size 640x480 with 1 Axes>"
      ]
     },
     "metadata": {},
     "output_type": "display_data"
    }
   ],
   "source": [
    "print(\"Training Session 4: Learning Rate\", 5e-5)\n",
    "model.compile(loss='mean_squared_error',\n",
    "              optimizer=Adam(lr=5e-5,decay=1e-5),\n",
    "              metrics=['mean_squared_error', 'mean_absolute_error'])\n",
    "\n",
    "\n",
    "history4 = model.fit(inp_train, y_train, \\\n",
    "                     callbacks=[checkpointer, earlystop],\n",
    "                    batch_size=32, epochs=1500, shuffle=True,\n",
    "                    verbose=0, validation_data=(inp_val, y_val)\n",
    "                    )\n",
    "\n",
    "plt.plot(history4.history['val_mean_squared_error'])\n",
    "plt.plot(history4.history['mean_squared_error'])\n",
    "plt.show()"
   ]
  },
  {
   "cell_type": "code",
   "execution_count": 111,
   "metadata": {},
   "outputs": [
    {
     "name": "stdout",
     "output_type": "stream",
     "text": [
      "Training Session 5: Learning Rate 5e-05\n"
     ]
    },
    {
     "ename": "KeyboardInterrupt",
     "evalue": "",
     "output_type": "error",
     "traceback": [
      "\u001b[1;31m---------------------------------------------------------------------------\u001b[0m",
      "\u001b[1;31mKeyboardInterrupt\u001b[0m                         Traceback (most recent call last)",
      "\u001b[1;32mc:\\Users\\claud\\Documents\\GitHub\\Gold_ML\\Augmented model\\FU_Paris(0).ipynb Cell 33\u001b[0m in \u001b[0;36m<cell line: 7>\u001b[1;34m()\u001b[0m\n\u001b[0;32m      <a href='vscode-notebook-cell:/c%3A/Users/claud/Documents/GitHub/Gold_ML/Augmented%20model/FU_Paris%280%29.ipynb#X44sZmlsZQ%3D%3D?line=0'>1</a>\u001b[0m \u001b[39mprint\u001b[39m(\u001b[39m\"\u001b[39m\u001b[39mTraining Session 5: Learning Rate\u001b[39m\u001b[39m\"\u001b[39m, \u001b[39m5e-5\u001b[39m)\n\u001b[0;32m      <a href='vscode-notebook-cell:/c%3A/Users/claud/Documents/GitHub/Gold_ML/Augmented%20model/FU_Paris%280%29.ipynb#X44sZmlsZQ%3D%3D?line=1'>2</a>\u001b[0m model\u001b[39m.\u001b[39mcompile(loss\u001b[39m=\u001b[39m\u001b[39m'\u001b[39m\u001b[39mmean_squared_error\u001b[39m\u001b[39m'\u001b[39m,\n\u001b[0;32m      <a href='vscode-notebook-cell:/c%3A/Users/claud/Documents/GitHub/Gold_ML/Augmented%20model/FU_Paris%280%29.ipynb#X44sZmlsZQ%3D%3D?line=2'>3</a>\u001b[0m               optimizer\u001b[39m=\u001b[39mAdam(lr\u001b[39m=\u001b[39m\u001b[39m5e-5\u001b[39m,decay\u001b[39m=\u001b[39m\u001b[39m1e-5\u001b[39m),\n\u001b[0;32m      <a href='vscode-notebook-cell:/c%3A/Users/claud/Documents/GitHub/Gold_ML/Augmented%20model/FU_Paris%280%29.ipynb#X44sZmlsZQ%3D%3D?line=3'>4</a>\u001b[0m               metrics\u001b[39m=\u001b[39m[\u001b[39m'\u001b[39m\u001b[39mmean_squared_error\u001b[39m\u001b[39m'\u001b[39m, \u001b[39m'\u001b[39m\u001b[39mmean_absolute_error\u001b[39m\u001b[39m'\u001b[39m])\n\u001b[1;32m----> <a href='vscode-notebook-cell:/c%3A/Users/claud/Documents/GitHub/Gold_ML/Augmented%20model/FU_Paris%280%29.ipynb#X44sZmlsZQ%3D%3D?line=6'>7</a>\u001b[0m history5 \u001b[39m=\u001b[39m model\u001b[39m.\u001b[39;49mfit(inp_train, y_train, \\\n\u001b[0;32m      <a href='vscode-notebook-cell:/c%3A/Users/claud/Documents/GitHub/Gold_ML/Augmented%20model/FU_Paris%280%29.ipynb#X44sZmlsZQ%3D%3D?line=7'>8</a>\u001b[0m                      callbacks\u001b[39m=\u001b[39;49m[checkpointer, earlystop],\n\u001b[0;32m      <a href='vscode-notebook-cell:/c%3A/Users/claud/Documents/GitHub/Gold_ML/Augmented%20model/FU_Paris%280%29.ipynb#X44sZmlsZQ%3D%3D?line=8'>9</a>\u001b[0m                     batch_size\u001b[39m=\u001b[39;49m\u001b[39m32\u001b[39;49m, epochs\u001b[39m=\u001b[39;49m\u001b[39m1500\u001b[39;49m, shuffle\u001b[39m=\u001b[39;49m\u001b[39mTrue\u001b[39;49;00m,\n\u001b[0;32m     <a href='vscode-notebook-cell:/c%3A/Users/claud/Documents/GitHub/Gold_ML/Augmented%20model/FU_Paris%280%29.ipynb#X44sZmlsZQ%3D%3D?line=9'>10</a>\u001b[0m                     verbose\u001b[39m=\u001b[39;49m\u001b[39m0\u001b[39;49m, validation_data\u001b[39m=\u001b[39;49m(inp_val, y_val)\n\u001b[0;32m     <a href='vscode-notebook-cell:/c%3A/Users/claud/Documents/GitHub/Gold_ML/Augmented%20model/FU_Paris%280%29.ipynb#X44sZmlsZQ%3D%3D?line=10'>11</a>\u001b[0m                     )\n\u001b[0;32m     <a href='vscode-notebook-cell:/c%3A/Users/claud/Documents/GitHub/Gold_ML/Augmented%20model/FU_Paris%280%29.ipynb#X44sZmlsZQ%3D%3D?line=12'>13</a>\u001b[0m plt\u001b[39m.\u001b[39mplot(history5\u001b[39m.\u001b[39mhistory[\u001b[39m'\u001b[39m\u001b[39mval_mean_squared_error\u001b[39m\u001b[39m'\u001b[39m])\n\u001b[0;32m     <a href='vscode-notebook-cell:/c%3A/Users/claud/Documents/GitHub/Gold_ML/Augmented%20model/FU_Paris%280%29.ipynb#X44sZmlsZQ%3D%3D?line=13'>14</a>\u001b[0m plt\u001b[39m.\u001b[39mplot(history5\u001b[39m.\u001b[39mhistory[\u001b[39m'\u001b[39m\u001b[39mmean_squared_error\u001b[39m\u001b[39m'\u001b[39m])\n",
      "File \u001b[1;32mc:\\Users\\claud\\anaconda3\\envs\\delta\\lib\\site-packages\\tensorflow\\python\\keras\\engine\\training.py:108\u001b[0m, in \u001b[0;36menable_multi_worker.<locals>._method_wrapper\u001b[1;34m(self, *args, **kwargs)\u001b[0m\n\u001b[0;32m    106\u001b[0m \u001b[39mdef\u001b[39;00m \u001b[39m_method_wrapper\u001b[39m(\u001b[39mself\u001b[39m, \u001b[39m*\u001b[39margs, \u001b[39m*\u001b[39m\u001b[39m*\u001b[39mkwargs):\n\u001b[0;32m    107\u001b[0m   \u001b[39mif\u001b[39;00m \u001b[39mnot\u001b[39;00m \u001b[39mself\u001b[39m\u001b[39m.\u001b[39m_in_multi_worker_mode():  \u001b[39m# pylint: disable=protected-access\u001b[39;00m\n\u001b[1;32m--> 108\u001b[0m     \u001b[39mreturn\u001b[39;00m method(\u001b[39mself\u001b[39;49m, \u001b[39m*\u001b[39;49margs, \u001b[39m*\u001b[39;49m\u001b[39m*\u001b[39;49mkwargs)\n\u001b[0;32m    110\u001b[0m   \u001b[39m# Running inside `run_distribute_coordinator` already.\u001b[39;00m\n\u001b[0;32m    111\u001b[0m   \u001b[39mif\u001b[39;00m dc_context\u001b[39m.\u001b[39mget_current_worker_context():\n",
      "File \u001b[1;32mc:\\Users\\claud\\anaconda3\\envs\\delta\\lib\\site-packages\\tensorflow\\python\\keras\\engine\\training.py:1098\u001b[0m, in \u001b[0;36mModel.fit\u001b[1;34m(self, x, y, batch_size, epochs, verbose, callbacks, validation_split, validation_data, shuffle, class_weight, sample_weight, initial_epoch, steps_per_epoch, validation_steps, validation_batch_size, validation_freq, max_queue_size, workers, use_multiprocessing)\u001b[0m\n\u001b[0;32m   1091\u001b[0m \u001b[39mwith\u001b[39;00m trace\u001b[39m.\u001b[39mTrace(\n\u001b[0;32m   1092\u001b[0m     \u001b[39m'\u001b[39m\u001b[39mTraceContext\u001b[39m\u001b[39m'\u001b[39m,\n\u001b[0;32m   1093\u001b[0m     graph_type\u001b[39m=\u001b[39m\u001b[39m'\u001b[39m\u001b[39mtrain\u001b[39m\u001b[39m'\u001b[39m,\n\u001b[0;32m   1094\u001b[0m     epoch_num\u001b[39m=\u001b[39mepoch,\n\u001b[0;32m   1095\u001b[0m     step_num\u001b[39m=\u001b[39mstep,\n\u001b[0;32m   1096\u001b[0m     batch_size\u001b[39m=\u001b[39mbatch_size):\n\u001b[0;32m   1097\u001b[0m   callbacks\u001b[39m.\u001b[39mon_train_batch_begin(step)\n\u001b[1;32m-> 1098\u001b[0m   tmp_logs \u001b[39m=\u001b[39m train_function(iterator)\n\u001b[0;32m   1099\u001b[0m   \u001b[39mif\u001b[39;00m data_handler\u001b[39m.\u001b[39mshould_sync:\n\u001b[0;32m   1100\u001b[0m     context\u001b[39m.\u001b[39masync_wait()\n",
      "File \u001b[1;32mc:\\Users\\claud\\anaconda3\\envs\\delta\\lib\\site-packages\\tensorflow\\python\\eager\\def_function.py:780\u001b[0m, in \u001b[0;36mFunction.__call__\u001b[1;34m(self, *args, **kwds)\u001b[0m\n\u001b[0;32m    778\u001b[0m \u001b[39melse\u001b[39;00m:\n\u001b[0;32m    779\u001b[0m   compiler \u001b[39m=\u001b[39m \u001b[39m\"\u001b[39m\u001b[39mnonXla\u001b[39m\u001b[39m\"\u001b[39m\n\u001b[1;32m--> 780\u001b[0m   result \u001b[39m=\u001b[39m \u001b[39mself\u001b[39;49m\u001b[39m.\u001b[39;49m_call(\u001b[39m*\u001b[39;49margs, \u001b[39m*\u001b[39;49m\u001b[39m*\u001b[39;49mkwds)\n\u001b[0;32m    782\u001b[0m new_tracing_count \u001b[39m=\u001b[39m \u001b[39mself\u001b[39m\u001b[39m.\u001b[39m_get_tracing_count()\n\u001b[0;32m    783\u001b[0m without_tracing \u001b[39m=\u001b[39m (tracing_count \u001b[39m==\u001b[39m new_tracing_count)\n",
      "File \u001b[1;32mc:\\Users\\claud\\anaconda3\\envs\\delta\\lib\\site-packages\\tensorflow\\python\\eager\\def_function.py:807\u001b[0m, in \u001b[0;36mFunction._call\u001b[1;34m(self, *args, **kwds)\u001b[0m\n\u001b[0;32m    804\u001b[0m   \u001b[39mself\u001b[39m\u001b[39m.\u001b[39m_lock\u001b[39m.\u001b[39mrelease()\n\u001b[0;32m    805\u001b[0m   \u001b[39m# In this case we have created variables on the first call, so we run the\u001b[39;00m\n\u001b[0;32m    806\u001b[0m   \u001b[39m# defunned version which is guaranteed to never create variables.\u001b[39;00m\n\u001b[1;32m--> 807\u001b[0m   \u001b[39mreturn\u001b[39;00m \u001b[39mself\u001b[39;49m\u001b[39m.\u001b[39;49m_stateless_fn(\u001b[39m*\u001b[39;49margs, \u001b[39m*\u001b[39;49m\u001b[39m*\u001b[39;49mkwds)  \u001b[39m# pylint: disable=not-callable\u001b[39;00m\n\u001b[0;32m    808\u001b[0m \u001b[39melif\u001b[39;00m \u001b[39mself\u001b[39m\u001b[39m.\u001b[39m_stateful_fn \u001b[39mis\u001b[39;00m \u001b[39mnot\u001b[39;00m \u001b[39mNone\u001b[39;00m:\n\u001b[0;32m    809\u001b[0m   \u001b[39m# Release the lock early so that multiple threads can perform the call\u001b[39;00m\n\u001b[0;32m    810\u001b[0m   \u001b[39m# in parallel.\u001b[39;00m\n\u001b[0;32m    811\u001b[0m   \u001b[39mself\u001b[39m\u001b[39m.\u001b[39m_lock\u001b[39m.\u001b[39mrelease()\n",
      "File \u001b[1;32mc:\\Users\\claud\\anaconda3\\envs\\delta\\lib\\site-packages\\tensorflow\\python\\eager\\function.py:2829\u001b[0m, in \u001b[0;36mFunction.__call__\u001b[1;34m(self, *args, **kwargs)\u001b[0m\n\u001b[0;32m   2827\u001b[0m \u001b[39mwith\u001b[39;00m \u001b[39mself\u001b[39m\u001b[39m.\u001b[39m_lock:\n\u001b[0;32m   2828\u001b[0m   graph_function, args, kwargs \u001b[39m=\u001b[39m \u001b[39mself\u001b[39m\u001b[39m.\u001b[39m_maybe_define_function(args, kwargs)\n\u001b[1;32m-> 2829\u001b[0m \u001b[39mreturn\u001b[39;00m graph_function\u001b[39m.\u001b[39;49m_filtered_call(args, kwargs)\n",
      "File \u001b[1;32mc:\\Users\\claud\\anaconda3\\envs\\delta\\lib\\site-packages\\tensorflow\\python\\eager\\function.py:1843\u001b[0m, in \u001b[0;36mConcreteFunction._filtered_call\u001b[1;34m(self, args, kwargs, cancellation_manager)\u001b[0m\n\u001b[0;32m   1827\u001b[0m \u001b[39mdef\u001b[39;00m \u001b[39m_filtered_call\u001b[39m(\u001b[39mself\u001b[39m, args, kwargs, cancellation_manager\u001b[39m=\u001b[39m\u001b[39mNone\u001b[39;00m):\n\u001b[0;32m   1828\u001b[0m   \u001b[39m\"\"\"Executes the function, filtering arguments from the Python function.\u001b[39;00m\n\u001b[0;32m   1829\u001b[0m \n\u001b[0;32m   1830\u001b[0m \u001b[39m  Objects aside from Tensors, CompositeTensors, and Variables are ignored.\u001b[39;00m\n\u001b[1;32m   (...)\u001b[0m\n\u001b[0;32m   1841\u001b[0m \u001b[39m    `args` and `kwargs`.\u001b[39;00m\n\u001b[0;32m   1842\u001b[0m \u001b[39m  \"\"\"\u001b[39;00m\n\u001b[1;32m-> 1843\u001b[0m   \u001b[39mreturn\u001b[39;00m \u001b[39mself\u001b[39;49m\u001b[39m.\u001b[39;49m_call_flat(\n\u001b[0;32m   1844\u001b[0m       [t \u001b[39mfor\u001b[39;49;00m t \u001b[39min\u001b[39;49;00m nest\u001b[39m.\u001b[39;49mflatten((args, kwargs), expand_composites\u001b[39m=\u001b[39;49m\u001b[39mTrue\u001b[39;49;00m)\n\u001b[0;32m   1845\u001b[0m        \u001b[39mif\u001b[39;49;00m \u001b[39misinstance\u001b[39;49m(t, (ops\u001b[39m.\u001b[39;49mTensor,\n\u001b[0;32m   1846\u001b[0m                          resource_variable_ops\u001b[39m.\u001b[39;49mBaseResourceVariable))],\n\u001b[0;32m   1847\u001b[0m       captured_inputs\u001b[39m=\u001b[39;49m\u001b[39mself\u001b[39;49m\u001b[39m.\u001b[39;49mcaptured_inputs,\n\u001b[0;32m   1848\u001b[0m       cancellation_manager\u001b[39m=\u001b[39;49mcancellation_manager)\n",
      "File \u001b[1;32mc:\\Users\\claud\\anaconda3\\envs\\delta\\lib\\site-packages\\tensorflow\\python\\eager\\function.py:1923\u001b[0m, in \u001b[0;36mConcreteFunction._call_flat\u001b[1;34m(self, args, captured_inputs, cancellation_manager)\u001b[0m\n\u001b[0;32m   1918\u001b[0m possible_gradient_type \u001b[39m=\u001b[39m (\n\u001b[0;32m   1919\u001b[0m     pywrap_tfe\u001b[39m.\u001b[39mTFE_Py_TapeSetPossibleGradientTypes(args))\n\u001b[0;32m   1920\u001b[0m \u001b[39mif\u001b[39;00m (possible_gradient_type \u001b[39m==\u001b[39m _POSSIBLE_GRADIENT_TYPES_NONE\n\u001b[0;32m   1921\u001b[0m     \u001b[39mand\u001b[39;00m executing_eagerly):\n\u001b[0;32m   1922\u001b[0m   \u001b[39m# No tape is watching; skip to running the function.\u001b[39;00m\n\u001b[1;32m-> 1923\u001b[0m   \u001b[39mreturn\u001b[39;00m \u001b[39mself\u001b[39m\u001b[39m.\u001b[39m_build_call_outputs(\u001b[39mself\u001b[39;49m\u001b[39m.\u001b[39;49m_inference_function\u001b[39m.\u001b[39;49mcall(\n\u001b[0;32m   1924\u001b[0m       ctx, args, cancellation_manager\u001b[39m=\u001b[39;49mcancellation_manager))\n\u001b[0;32m   1925\u001b[0m forward_backward \u001b[39m=\u001b[39m \u001b[39mself\u001b[39m\u001b[39m.\u001b[39m_select_forward_and_backward_functions(\n\u001b[0;32m   1926\u001b[0m     args,\n\u001b[0;32m   1927\u001b[0m     possible_gradient_type,\n\u001b[0;32m   1928\u001b[0m     executing_eagerly)\n\u001b[0;32m   1929\u001b[0m forward_function, args_with_tangents \u001b[39m=\u001b[39m forward_backward\u001b[39m.\u001b[39mforward()\n",
      "File \u001b[1;32mc:\\Users\\claud\\anaconda3\\envs\\delta\\lib\\site-packages\\tensorflow\\python\\eager\\function.py:545\u001b[0m, in \u001b[0;36m_EagerDefinedFunction.call\u001b[1;34m(self, ctx, args, cancellation_manager)\u001b[0m\n\u001b[0;32m    543\u001b[0m \u001b[39mwith\u001b[39;00m _InterpolateFunctionError(\u001b[39mself\u001b[39m):\n\u001b[0;32m    544\u001b[0m   \u001b[39mif\u001b[39;00m cancellation_manager \u001b[39mis\u001b[39;00m \u001b[39mNone\u001b[39;00m:\n\u001b[1;32m--> 545\u001b[0m     outputs \u001b[39m=\u001b[39m execute\u001b[39m.\u001b[39;49mexecute(\n\u001b[0;32m    546\u001b[0m         \u001b[39mstr\u001b[39;49m(\u001b[39mself\u001b[39;49m\u001b[39m.\u001b[39;49msignature\u001b[39m.\u001b[39;49mname),\n\u001b[0;32m    547\u001b[0m         num_outputs\u001b[39m=\u001b[39;49m\u001b[39mself\u001b[39;49m\u001b[39m.\u001b[39;49m_num_outputs,\n\u001b[0;32m    548\u001b[0m         inputs\u001b[39m=\u001b[39;49margs,\n\u001b[0;32m    549\u001b[0m         attrs\u001b[39m=\u001b[39;49mattrs,\n\u001b[0;32m    550\u001b[0m         ctx\u001b[39m=\u001b[39;49mctx)\n\u001b[0;32m    551\u001b[0m   \u001b[39melse\u001b[39;00m:\n\u001b[0;32m    552\u001b[0m     outputs \u001b[39m=\u001b[39m execute\u001b[39m.\u001b[39mexecute_with_cancellation(\n\u001b[0;32m    553\u001b[0m         \u001b[39mstr\u001b[39m(\u001b[39mself\u001b[39m\u001b[39m.\u001b[39msignature\u001b[39m.\u001b[39mname),\n\u001b[0;32m    554\u001b[0m         num_outputs\u001b[39m=\u001b[39m\u001b[39mself\u001b[39m\u001b[39m.\u001b[39m_num_outputs,\n\u001b[1;32m   (...)\u001b[0m\n\u001b[0;32m    557\u001b[0m         ctx\u001b[39m=\u001b[39mctx,\n\u001b[0;32m    558\u001b[0m         cancellation_manager\u001b[39m=\u001b[39mcancellation_manager)\n",
      "File \u001b[1;32mc:\\Users\\claud\\anaconda3\\envs\\delta\\lib\\site-packages\\tensorflow\\python\\eager\\execute.py:59\u001b[0m, in \u001b[0;36mquick_execute\u001b[1;34m(op_name, num_outputs, inputs, attrs, ctx, name)\u001b[0m\n\u001b[0;32m     57\u001b[0m \u001b[39mtry\u001b[39;00m:\n\u001b[0;32m     58\u001b[0m   ctx\u001b[39m.\u001b[39mensure_initialized()\n\u001b[1;32m---> 59\u001b[0m   tensors \u001b[39m=\u001b[39m pywrap_tfe\u001b[39m.\u001b[39;49mTFE_Py_Execute(ctx\u001b[39m.\u001b[39;49m_handle, device_name, op_name,\n\u001b[0;32m     60\u001b[0m                                       inputs, attrs, num_outputs)\n\u001b[0;32m     61\u001b[0m \u001b[39mexcept\u001b[39;00m core\u001b[39m.\u001b[39m_NotOkStatusException \u001b[39mas\u001b[39;00m e:\n\u001b[0;32m     62\u001b[0m   \u001b[39mif\u001b[39;00m name \u001b[39mis\u001b[39;00m \u001b[39mnot\u001b[39;00m \u001b[39mNone\u001b[39;00m:\n",
      "\u001b[1;31mKeyboardInterrupt\u001b[0m: "
     ]
    }
   ],
   "source": [
    "print(\"Training Session 5: Learning Rate\", 5e-5)\n",
    "model.compile(loss='mean_squared_error',\n",
    "              optimizer=Adam(lr=5e-5,decay=1e-5),\n",
    "              metrics=['mean_squared_error', 'mean_absolute_error'])\n",
    "\n",
    "\n",
    "history5 = model.fit(inp_train, y_train, \\\n",
    "                     callbacks=[checkpointer, earlystop],\n",
    "                    batch_size=32, epochs=1500, shuffle=True,\n",
    "                    verbose=0, validation_data=(inp_val, y_val)\n",
    "                    )\n",
    "\n",
    "plt.plot(history5.history['val_mean_squared_error'])\n",
    "plt.plot(history5.history['mean_squared_error'])\n",
    "plt.show()"
   ]
  },
  {
   "cell_type": "code",
   "execution_count": null,
   "metadata": {},
   "outputs": [],
   "source": [
    "plt.loglog(history.history['val_mean_squared_error'] + history2.history['val_mean_squared_error'] \\\n",
    "           + history3.history['val_mean_squared_error']+ history4.history['val_mean_squared_error'] \\\n",
    "           + history5.history['val_mean_squared_error'], label='Validation MSE')\n",
    "plt.loglog(history.history['mean_squared_error'] + history2.history['mean_squared_error']\\\n",
    "           + history3.history['mean_squared_error']+ history4.history['mean_squared_error'] \\\n",
    "           + history5.history['mean_squared_error'], label='Training MSE')\n",
    "plt.legend()\n",
    "plt.show()"
   ]
  },
  {
   "cell_type": "code",
   "execution_count": null,
   "metadata": {},
   "outputs": [],
   "source": [
    "# Load model weights\n",
    "model.load_weights(check1)"
   ]
  },
  {
   "cell_type": "code",
   "execution_count": null,
   "metadata": {},
   "outputs": [],
   "source": [
    "y_pred_scaled_train = model.predict(inp_train)\n",
    "y_pred_train = y_pred_scaled_train.T[0] # Transpose the np.array\n",
    "y_obs_train = y_train\n",
    "\n",
    "\n",
    "x1 = pd.Series(y_pred_train, name=\"Predicted\")\n",
    "x2 = pd.Series(y_obs_train, name=\"Observed\")\n",
    "\n",
    "data1 = pd.concat([x1, x2], axis=1)\n",
    "g = sns.lmplot(\"Predicted\", \"Observed\", data1,\n",
    "           scatter_kws={\"marker\": \".\", \"color\": \"navy\", \"alpha\": 0.4 },\n",
    "           line_kws={\"linewidth\": 1, \"color\": \"orange\"},\n",
    "\n",
    "              height=8, aspect=1);\n",
    "sns.kdeplot(x1,x2, cmap='viridis_r', shade=True, alpha=0.75)\n",
    "plt.plot(ls=\"--\", c=\".1\")\n",
    "plt.title('Training Set Fitting', fontsize=20)"
   ]
  },
  {
   "cell_type": "code",
   "execution_count": null,
   "metadata": {},
   "outputs": [],
   "source": [
    "# Error on TEST set \n",
    "y_pred_scaled = model.predict(inp_test)\n",
    "y_pred = y_pred_scaled.T[0]  # in kcal/mol unit\n",
    "y_obs = y_test #/Eunit\n",
    "\n",
    "err_test = np.sqrt(mean_squared_error(y_pred, y_obs))\n",
    "errAbs_test = mean_absolute_error(y_pred, y_obs) \n",
    "print('RMSE_test:', '%.4f' % err_test)\n",
    "print('MAE_test:','%.4f' % errAbs_test)\n",
    "#print('The mean value of energies in test set: ', '%.4f' %E_ref_orig[test_idx].mean())"
   ]
  },
  {
   "cell_type": "code",
   "execution_count": null,
   "metadata": {},
   "outputs": [],
   "source": [
    "# Scatter plot of predicted and true values of energies in the test set\n",
    "x1 = pd.Series(y_pred, name=\"Predicted\")\n",
    "x2 = pd.Series(y_obs, name=\"Observed\")\n",
    "\n",
    "g = sns.lmplot(\"Predicted\", \"Observed\", data1,\n",
    "           scatter_kws={\"marker\": \".\", \"color\": \"navy\", \"alpha\": 0.4 },\n",
    "           line_kws={\"linewidth\": 1, \"color\": \"orange\"},\n",
    "              height=8, aspect=1);\n",
    "sns.kdeplot(x1,x2, cmap='viridis_r', shade=True, alpha=0.75)\n",
    "plt.plot(ls=\"--\", c=\".1\")\n",
    "plt.title('Test Set Prediction', fontsize=20)"
   ]
  },
  {
   "cell_type": "code",
   "execution_count": null,
   "metadata": {},
   "outputs": [],
   "source": [
    "# model.layers[21]\n",
    "save_dir"
   ]
  },
  {
   "cell_type": "code",
   "execution_count": null,
   "metadata": {},
   "outputs": [],
   "source": [
    "for el in SUPPORTED_ELEMENTS:\n",
    "    nm = f\"{el}-subnet\"\n",
    "    write_subnet_text(model, 'Model', nm)"
   ]
  },
  {
   "cell_type": "code",
   "execution_count": null,
   "metadata": {},
   "outputs": [],
   "source": [
    "from keras.models import load_model"
   ]
  },
  {
   "cell_type": "code",
   "execution_count": null,
   "metadata": {},
   "outputs": [],
   "source": [
    "#TODO: Automatically collects all the sublayers. \n",
    "model.get_layer(\"H-subnet\").save(os.path.join('Model', 'H-subnet.h5'))\n",
    "model.get_layer(\"O-subnet\").save(os.path.join('Model', 'O-subnet.h5'))\n",
    "model.get_layer(\"Au-subnet\").save(os.path.join('Model', 'Au-subnet.h5'))\n"
   ]
  },
  {
   "cell_type": "code",
   "execution_count": null,
   "metadata": {},
   "outputs": [],
   "source": [
    "model.save(os.path.join('Model', 'model.h5'))"
   ]
  },
  {
   "cell_type": "code",
   "execution_count": null,
   "metadata": {},
   "outputs": [],
   "source": [
    "def write_np_arr_to_pkl(np_arr, save_dir, file_name):\n",
    "    with open(os.path.join(save_dir, file_name), \"wb\") as pkl_file:\n",
    "        pickle.dump(np_arr, pkl_file)    "
   ]
  },
  {
   "cell_type": "code",
   "execution_count": null,
   "metadata": {},
   "outputs": [],
   "source": [
    "write_np_arr_to_pkl(inp_test,'Model',  \"inp_test.pkl\")\n",
    "write_np_arr_to_pkl(y_pred,'Model',  \"y_pred.pkl\")\n",
    "write_np_arr_to_pkl(y_obs, 'Model', \"y_obs.pkl\")"
   ]
  },
  {
   "cell_type": "code",
   "execution_count": null,
   "metadata": {},
   "outputs": [],
   "source": [
    "def write_keras_subnet_ind(model, save_dir, subnet_name):\n",
    "    \"\"\"\n",
    "    Write the given subnet of keras model to file.\n",
    "    \n",
    "    For a given keras model (model), with the given Name of the subbnet (subnet_name, save\n",
    "    the model to json file and the weight to a h5 file. \n",
    "    \n",
    "        Args:\n",
    "            model: a keras model for the entire nested network.\n",
    "            subnet_name: the name for the sub neural network as in model.summary()\n",
    "        \n",
    "        Outputs:\n",
    "            No Return Value.\n",
    "            Save the given sub neural network in the ../folder. \n",
    "            The architecture is saved in 'subnet_name.json'\n",
    "            The weight is saved in 'subnet_name-weight.h5'\n",
    "            \n",
    "    Comments:\n",
    "    Needs to run the shell script to clean all the data\n",
    "    \"\"\"\n",
    "    subnet = model.get_layer(subnet_name)\n",
    "    subnet.save_weights(os.path.join(save_dir, subnet_name + '-weight.h5'))\n",
    "    subnet_json = subnet.to_json()\n",
    "    with open(os.path.join(save_dir, subnet_name+\".json\"), \"w\") as json_file:\n",
    "        json_file.write(subnet_json)"
   ]
  },
  {
   "cell_type": "code",
   "execution_count": null,
   "metadata": {},
   "outputs": [],
   "source": [
    "write_keras_subnet_ind(model, 'Model', 'H-subnet')\n",
    "write_keras_subnet_ind(model, 'Model', 'O-subnet')\n",
    "write_keras_subnet_ind(model, 'Model', 'Au-subnet')\n",
    "\n"
   ]
  },
  {
   "cell_type": "code",
   "execution_count": null,
   "metadata": {},
   "outputs": [],
   "source": [
    "import tarfile\n",
    "tar = tarfile.open(\"Model.tar.gz\", \"w:gz\")\n",
    "for name in ['Model/Au-subnet.param', \"Model/H-subnet.param\", \"Model/O-subnet.param\"]:\n",
    "    tar.add(name)\n",
    "tar.close()"
   ]
  },
  {
   "cell_type": "code",
   "execution_count": null,
   "metadata": {},
   "outputs": [],
   "source": []
  }
 ],
 "metadata": {
  "kernelspec": {
   "display_name": "Python 3.8.13 ('delta')",
   "language": "python",
   "name": "python3"
  },
  "language_info": {
   "codemirror_mode": {
    "name": "ipython",
    "version": 3
   },
   "file_extension": ".py",
   "mimetype": "text/x-python",
   "name": "python",
   "nbconvert_exporter": "python",
   "pygments_lexer": "ipython3",
   "version": "3.8.13"
  },
  "vscode": {
   "interpreter": {
    "hash": "b759955eabc9829cefa44d93882d5c10b4ee36f2fff8ed71e5707cc7ed429cc9"
   }
  }
 },
 "nbformat": 4,
 "nbformat_minor": 2
}
